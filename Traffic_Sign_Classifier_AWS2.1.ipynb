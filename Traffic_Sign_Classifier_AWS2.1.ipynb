{
 "cells": [
  {
   "cell_type": "markdown",
   "metadata": {},
   "source": [
    "# Self-Driving Car Engineer Nanodegree\n",
    "\n",
    "## Deep Learning\n",
    "\n",
    "## Project: Build a Traffic Sign Recognition Classifier\n",
    "\n",
    "In this notebook, a template is provided for you to implement your functionality in stages, which is required to successfully complete this project. If additional code is required that cannot be included in the notebook, be sure that the Python code is successfully imported and included in your submission if necessary. \n",
    "\n",
    "> **Note**: Once you have completed all of the code implementations, you need to finalize your work by exporting the iPython Notebook as an HTML document. Before exporting the notebook to html, all of the code cells need to have been run so that reviewers can see the final implementation and output. You can then export the notebook by using the menu above and navigating to  \\n\",\n",
    "    \"**File -> Download as -> HTML (.html)**. Include the finished document along with this notebook as your submission. \n",
    "\n",
    "In addition to implementing code, there is a writeup to complete. The writeup should be completed in a separate file, which can be either a markdown file or a pdf document. There is a [write up template](https://github.com/udacity/CarND-Traffic-Sign-Classifier-Project/blob/master/writeup_template.md) that can be used to guide the writing process. Completing the code template and writeup template will cover all of the [rubric points](https://review.udacity.com/#!/rubrics/481/view) for this project.\n",
    "\n",
    "The [rubric](https://review.udacity.com/#!/rubrics/481/view) contains \"Stand Out Suggestions\" for enhancing the project beyond the minimum requirements. The stand out suggestions are optional. If you decide to pursue the \"stand out suggestions\", you can include the code in this Ipython notebook and also discuss the results in the writeup file.\n",
    "\n",
    "\n",
    ">**Note:** Code and Markdown cells can be executed using the **Shift + Enter** keyboard shortcut. In addition, Markdown cells can be edited by typically double-clicking the cell to enter edit mode."
   ]
  },
  {
   "cell_type": "markdown",
   "metadata": {},
   "source": [
    "---\n",
    "## Step 0: Load The Data"
   ]
  },
  {
   "cell_type": "code",
   "execution_count": 1,
   "metadata": {
    "scrolled": true
   },
   "outputs": [
    {
     "name": "stdout",
     "output_type": "stream",
     "text": [
      "34799\n"
     ]
    }
   ],
   "source": [
    "# Load pickled data\n",
    "import pickle\n",
    "windows = False\n",
    "augmented = False\n",
    "# TODO: Fill this in based on where you saved the training and testing data\n",
    "if windows == True:\n",
    "    training_file = 'C:/Users/lenovo/Documents/SDCND/traffic-signs-data/train.p'\n",
    "    validation_file='C:/Users/lenovo/Documents/SDCND/traffic-signs-data/valid.p'\n",
    "    testing_file = 'C:/Users/lenovo/Documents/SDCND/traffic-signs-data/test.p'\n",
    "else:\n",
    "    training_file = 'train.p'\n",
    "    validation_file='valid.p'\n",
    "    testing_file = 'test.p'\n",
    "if augmented:\n",
    "    f = open('y_train_augmented.p', 'rb')\n",
    "    g = open('X_train_augmented.p', 'rb')\n",
    "    X_train = pickle.load(g)\n",
    "    y_train = pickle.load(f)\n",
    "    with open(validation_file, mode='rb') as f:\n",
    "        valid = pickle.load(f)\n",
    "    with open(testing_file, mode='rb') as f:\n",
    "        test = pickle.load(f)\n",
    "else:\n",
    "    with open(training_file, mode='rb') as f:\n",
    "        train = pickle.load(f)\n",
    "    with open(validation_file, mode='rb') as f:\n",
    "        valid = pickle.load(f)\n",
    "    with open(testing_file, mode='rb') as f:\n",
    "        test = pickle.load(f)\n",
    "    \n",
    "    X_train, y_train = train['features'], train['labels']\n",
    "X_valid, y_valid = valid['features'], valid['labels']\n",
    "print(X_train.shape[0])\n",
    "X_test, y_test = test['features'], test['labels']"
   ]
  },
  {
   "cell_type": "markdown",
   "metadata": {},
   "source": [
    "---\n",
    "\n",
    "## Step 1: Dataset Summary & Exploration\n",
    "\n",
    "The pickled data is a dictionary with 4 key/value pairs:\n",
    "\n",
    "- `'features'` is a 4D array containing raw pixel data of the traffic sign images, (num examples, width, height, channels).\n",
    "- `'labels'` is a 1D array containing the label/class id of the traffic sign. The file `signnames.csv` contains id -> name mappings for each id.\n",
    "- `'sizes'` is a list containing tuples, (width, height) representing the original width and height the image.\n",
    "- `'coords'` is a list containing tuples, (x1, y1, x2, y2) representing coordinates of a bounding box around the sign in the image. **THESE COORDINATES ASSUME THE ORIGINAL IMAGE. THE PICKLED DATA CONTAINS RESIZED VERSIONS (32 by 32) OF THESE IMAGES**\n",
    "\n",
    "Complete the basic data summary below. Use python, numpy and/or pandas methods to calculate the data summary rather than hard coding the results. For example, the [pandas shape method](http://pandas.pydata.org/pandas-docs/stable/generated/pandas.DataFrame.shape.html) might be useful for calculating some of the summary results. "
   ]
  },
  {
   "cell_type": "markdown",
   "metadata": {},
   "source": [
    "### Provide a Basic Summary of the Data Set Using Python, Numpy and/or Pandas"
   ]
  },
  {
   "cell_type": "code",
   "execution_count": 2,
   "metadata": {},
   "outputs": [
    {
     "name": "stdout",
     "output_type": "stream",
     "text": [
      "Number of training examples = 34799\n",
      "Number of testing examples = 12630\n",
      "Image data shape = (32, 32, 3)\n",
      "Number of classes = 43\n"
     ]
    }
   ],
   "source": [
    "### Replace each question mark with the appropriate value. \n",
    "### Use python, pandas or numpy methods rather than hard coding the results\n",
    "import numpy as np\n",
    "# TODO: Number of training examples\n",
    "n_train = X_train.shape[0]\n",
    "\n",
    "# TODO: Number of validation examples\n",
    "n_validation = X_valid.shape[0]\n",
    "\n",
    "# TODO: Number of testing examples.\n",
    "n_test = X_test.shape[0]\n",
    "\n",
    "# TODO: What's the shape of an traffic sign image?\n",
    "image_shape = X_train.shape[1:]\n",
    "\n",
    "# TODO: How many unique classes/labels there are in the dataset.\n",
    "n_classes = len(np.unique(y_train))\n",
    "\n",
    "print(\"Number of training examples =\", n_train)\n",
    "print(\"Number of testing examples =\", n_test)\n",
    "print(\"Image data shape =\", image_shape)\n",
    "print(\"Number of classes =\", n_classes)"
   ]
  },
  {
   "cell_type": "markdown",
   "metadata": {},
   "source": [
    "### Include an exploratory visualization of the dataset"
   ]
  },
  {
   "cell_type": "markdown",
   "metadata": {},
   "source": [
    "Visualize the German Traffic Signs Dataset using the pickled file(s). This is open ended, suggestions include: plotting traffic sign images, plotting the count of each sign, etc. \n",
    "\n",
    "The [Matplotlib](http://matplotlib.org/) [examples](http://matplotlib.org/examples/index.html) and [gallery](http://matplotlib.org/gallery.html) pages are a great resource for doing visualizations in Python.\n",
    "\n",
    "**NOTE:** It's recommended you start with something simple first. If you wish to do more, come back to it after you've completed the rest of the sections. It can be interesting to look at the distribution of classes in the training, validation and test set. Is the distribution the same? Are there more examples of some classes than others?"
   ]
  },
  {
   "cell_type": "code",
   "execution_count": 3,
   "metadata": {},
   "outputs": [
    {
     "name": "stdout",
     "output_type": "stream",
     "text": [
      "37\n"
     ]
    },
    {
     "data": {
      "image/png": "iVBORw0KGgoAAAANSUhEUgAAAP8AAAD8CAYAAAC4nHJkAAAABHNCSVQICAgIfAhkiAAAAAlwSFlz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\novw/e2y7LxqBi30AAAAASUVORK5CYII=\n",
      "text/plain": [
       "<matplotlib.figure.Figure at 0x7f1891871550>"
      ]
     },
     "metadata": {},
     "output_type": "display_data"
    },
    {
     "name": "stdout",
     "output_type": "stream",
     "text": [
      "30\n"
     ]
    },
    {
     "data": {
      "image/png": "iVBORw0KGgoAAAANSUhEUgAAAP8AAAD8CAYAAAC4nHJkAAAABHNCSVQICAgIfAhkiAAAAAlwSFlz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\nYII=\n",
      "text/plain": [
       "<matplotlib.figure.Figure at 0x7f189158ada0>"
      ]
     },
     "metadata": {},
     "output_type": "display_data"
    },
    {
     "name": "stdout",
     "output_type": "stream",
     "text": [
      "26\n"
     ]
    },
    {
     "data": {
      "image/png": "iVBORw0KGgoAAAANSUhEUgAAAP8AAAD8CAYAAAC4nHJkAAAABHNCSVQICAgIfAhkiAAAAAlwSFlz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\nY9IiAAAAAElFTkSuQmCC\n",
      "text/plain": [
       "<matplotlib.figure.Figure at 0x7f189150ccc0>"
      ]
     },
     "metadata": {},
     "output_type": "display_data"
    },
    {
     "name": "stdout",
     "output_type": "stream",
     "text": [
      "15\n"
     ]
    },
    {
     "data": {
      "image/png": "iVBORw0KGgoAAAANSUhEUgAAAP8AAAD8CAYAAAC4nHJkAAAABHNCSVQICAgIfAhkiAAAAAlwSFlz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\n",
      "text/plain": [
       "<matplotlib.figure.Figure at 0x7f189147ec18>"
      ]
     },
     "metadata": {},
     "output_type": "display_data"
    },
    {
     "name": "stdout",
     "output_type": "stream",
     "text": [
      "1\n"
     ]
    },
    {
     "data": {
      "image/png": "iVBORw0KGgoAAAANSUhEUgAAAP8AAAD8CAYAAAC4nHJkAAAABHNCSVQICAgIfAhkiAAAAAlwSFlz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\n+IUoFAW/EIWi4BeiUP4fRvMY2KLoEhIAAAAASUVORK5CYII=\n",
      "text/plain": [
       "<matplotlib.figure.Figure at 0x7f18913f37b8>"
      ]
     },
     "metadata": {},
     "output_type": "display_data"
    }
   ],
   "source": [
    "### Data exploration visualization code goes here.\n",
    "### Feel free to use as many code cells as needed.\n",
    "import matplotlib.pyplot as plt\n",
    "# Visualizations will be shown in the notebook.\n",
    "%matplotlib inline\n",
    "# Let us plot a few traffic sign images, just to see what our data looks like.\n",
    "numbers = np.random.randint(0, X_train.shape[0], 5)\n",
    "for i in numbers:\n",
    "    print (y_train[i])\n",
    "    plt.imshow(X_train[i].squeeze()), plt.show()\n"
   ]
  },
  {
   "cell_type": "code",
   "execution_count": 4,
   "metadata": {},
   "outputs": [
    {
     "data": {
      "image/png": "iVBORw0KGgoAAAANSUhEUgAAAYsAAAEWCAYAAACXGLsWAAAABHNCSVQICAgIfAhkiAAAAAlwSFlz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\nLMzMrND/B6vjMz3alZ1sAAAAAElFTkSuQmCC\n",
      "text/plain": [
       "<matplotlib.figure.Figure at 0x7f18913e8cc0>"
      ]
     },
     "metadata": {},
     "output_type": "display_data"
    }
   ],
   "source": [
    "# Let us plot a histogram of the classes for the train, test and validation datasets.\n",
    "fig, (ax0, ax1, ax2) = plt.subplots(3, sharex = True, sharey = True)\n",
    "n_bins = 43\n",
    "colors = ['red', 'green', 'blue']\n",
    "ax0.hist(y_train, n_bins, histtype = 'bar', color = colors[0], normed = \"True\")\n",
    "ax0.set_title(\"Histogram of Training Data\")\n",
    "ax1.hist(y_valid, n_bins, color = colors[1], normed = \"True\")\n",
    "ax1.set_title(\"Histogram of Validation Data\"), ax1.set_ylabel(\"Number of Samples\")\n",
    "ax2.hist(y_test, n_bins, color = colors[2], normed = \"True\")\n",
    "ax2.set_title(\"Histogram of Testing Data\"), ax2.set_xlabel(\"Classes\")\n",
    "fig.subplots_adjust(hspace = 1)\n",
    "plt.show()\n",
    "# We can observe that the distribution of classes in the three datasets is very similar.\n",
    "# But there is some unequal distribution of classes in each dataset."
   ]
  },
  {
   "cell_type": "markdown",
   "metadata": {},
   "source": [
    "----\n",
    "\n",
    "## Step 2: Design and Test a Model Architecture\n",
    "\n",
    "Design and implement a deep learning model that learns to recognize traffic signs. Train and test your model on the [German Traffic Sign Dataset](http://benchmark.ini.rub.de/?section=gtsrb&subsection=dataset).\n",
    "\n",
    "The LeNet-5 implementation shown in the [classroom](https://classroom.udacity.com/nanodegrees/nd013/parts/fbf77062-5703-404e-b60c-95b78b2f3f9e/modules/6df7ae49-c61c-4bb2-a23e-6527e69209ec/lessons/601ae704-1035-4287-8b11-e2c2716217ad/concepts/d4aca031-508f-4e0b-b493-e7b706120f81) at the end of the CNN lesson is a solid starting point. You'll have to change the number of classes and possibly the preprocessing, but aside from that it's plug and play! \n",
    "\n",
    "With the LeNet-5 solution from the lecture, you should expect a validation set accuracy of about 0.89. To meet specifications, the validation set accuracy will need to be at least 0.93. It is possible to get an even higher accuracy, but 0.93 is the minimum for a successful project submission. \n",
    "\n",
    "There are various aspects to consider when thinking about this problem:\n",
    "\n",
    "- Neural network architecture (is the network over or underfitting?)\n",
    "- Play around preprocessing techniques (normalization, rgb to grayscale, etc)\n",
    "- Number of examples per label (some have more than others).\n",
    "- Generate fake data.\n",
    "\n",
    "Here is an example of a [published baseline model on this problem](http://yann.lecun.com/exdb/publis/pdf/sermanet-ijcnn-11.pdf). It's not required to be familiar with the approach used in the paper but, it's good practice to try to read papers like these."
   ]
  },
  {
   "cell_type": "markdown",
   "metadata": {},
   "source": [
    "### Pre-process the Data Set (normalization, grayscale, etc.)"
   ]
  },
  {
   "cell_type": "markdown",
   "metadata": {},
   "source": [
    "Minimally, the image data should be normalized so that the data has mean zero and equal variance. For image data, `(pixel - 128)/ 128` is a quick way to approximately normalize the data and can be used in this project. \n",
    "\n",
    "Other pre-processing steps are optional. You can try different techniques to see if it improves performance. \n",
    "\n",
    "Use the code cell (or multiple code cells, if necessary) to implement the first step of your project."
   ]
  },
  {
   "cell_type": "code",
   "execution_count": 5,
   "metadata": {
    "collapsed": true
   },
   "outputs": [],
   "source": [
    "### Preprocess the data here. It is required to normalize the data. Other preprocessing steps could include \n",
    "### converting to grayscale, etc.\n",
    "### Feel free to use as many code cells as needed.\n",
    "from sklearn.utils import shuffle\n",
    "from sklearn import preprocessing\n",
    "from skimage.transform import warp, AffineTransform\n",
    "#X_train, y_train = shuffle(X_train, y_train)\n",
    "### Preprocess the data here. It is required to normalize the data. Other preprocessing steps could include \n",
    "### converting to grayscale, etc.\n",
    "### Feel free to use as many code cells as needed.\n"
   ]
  },
  {
   "cell_type": "code",
   "execution_count": 6,
   "metadata": {},
   "outputs": [
    {
     "data": {
      "image/png": "iVBORw0KGgoAAAANSUhEUgAAAP8AAAD8CAYAAAC4nHJkAAAABHNCSVQICAgIfAhkiAAAAAlwSFlz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\nFMr/A2oQYr/XbnhvAAAAAElFTkSuQmCC\n",
      "text/plain": [
       "<matplotlib.figure.Figure at 0x7f187bb0f940>"
      ]
     },
     "metadata": {},
     "output_type": "display_data"
    },
    {
     "data": {
      "image/png": "iVBORw0KGgoAAAANSUhEUgAAAP8AAAD8CAYAAAC4nHJkAAAABHNCSVQICAgIfAhkiAAAAAlwSFlz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\n",
      "text/plain": [
       "<matplotlib.figure.Figure at 0x7f189136a710>"
      ]
     },
     "metadata": {},
     "output_type": "display_data"
    },
    {
     "data": {
      "text/plain": [
       "<matplotlib.image.AxesImage at 0x7f186c4b55f8>"
      ]
     },
     "execution_count": 6,
     "metadata": {},
     "output_type": "execute_result"
    },
    {
     "data": {
      "image/png": "iVBORw0KGgoAAAANSUhEUgAAAP8AAAD8CAYAAAC4nHJkAAAABHNCSVQICAgIfAhkiAAAAAlwSFlz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\n",
      "text/plain": [
       "<matplotlib.figure.Figure at 0x7f186c4eeef0>"
      ]
     },
     "metadata": {},
     "output_type": "display_data"
    }
   ],
   "source": [
    "# Testing data augmentation\n",
    "import cv2\n",
    "# Just an example\n",
    "image = X_train[0,:,:,:]\n",
    "plt.imshow(image, cmap = 'gray'), plt.show()\n",
    "image = cv2.cvtColor(image, cv2.COLOR_RGB2GRAY)\n",
    "plt.imshow(image, cmap = 'gray'), plt.show()\n",
    "tform = AffineTransform(scale = (0.9, 0.9), translation = (-1, -1), rotation = np.deg2rad(-5))\n",
    "plt.imshow(warp(image, tform), cmap = 'gray')"
   ]
  },
  {
   "cell_type": "code",
   "execution_count": 7,
   "metadata": {},
   "outputs": [
    {
     "name": "stdout",
     "output_type": "stream",
     "text": [
      "(32, 32, 3)\n",
      "(34800, 32, 32, 3)\n"
     ]
    },
    {
     "data": {
      "text/plain": [
       "<matplotlib.image.AxesImage at 0x7f183947d2b0>"
      ]
     },
     "execution_count": 7,
     "metadata": {},
     "output_type": "execute_result"
    },
    {
     "data": {
      "image/png": "iVBORw0KGgoAAAANSUhEUgAAAP8AAAD8CAYAAAC4nHJkAAAABHNCSVQICAgIfAhkiAAAAAlwSFlz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\n",
      "text/plain": [
       "<matplotlib.figure.Figure at 0x7f189135aba8>"
      ]
     },
     "metadata": {},
     "output_type": "display_data"
    }
   ],
   "source": [
    "# This is how we can append the transformed image to the training set\n",
    "a = np.array([ 255*np.ones( (32, 32, 3) ) ])\n",
    "print(a[0,:,:,:].shape)\n",
    "X_temp = X_train\n",
    "X_temp = np.append(X_temp, a, axis = 0)\n",
    "print(X_temp.shape)\n",
    "plt.imshow(X_temp[34799,:,:,:])"
   ]
  },
  {
   "cell_type": "code",
   "execution_count": 8,
   "metadata": {},
   "outputs": [
    {
     "name": "stdout",
     "output_type": "stream",
     "text": [
      "(34799,)\n",
      "41\n"
     ]
    }
   ],
   "source": [
    "print(y_train.shape)\n",
    "y_temp = y_train\n",
    "y_temp = np.append(y_temp, y_train[0])\n",
    "print(y_temp[0])"
   ]
  },
  {
   "cell_type": "code",
<<<<<<< HEAD
   "execution_count": 9,
=======
   "execution_count": 22,
>>>>>>> f7be30e06d7777ec0f00254456f91e4d39fe2836
   "metadata": {
    "collapsed": true
   },
   "outputs": [],
   "source": [
<<<<<<< HEAD
    "#Now lets do it for all images, first create a temporary variable\n",
=======
    "# #Now lets do it for all images, first create a temporary variable\n",
>>>>>>> f7be30e06d7777ec0f00254456f91e4d39fe2836
    "# X_train_augmented = X_train\n",
    "# y_train_augmented = y_train\n",
    "# for i in range(len(X_train)):\n",
    "#     image = X_train[i,:,:,:]\n",
    "#     #print(image)\n",
    "#     # Sample values from uniform distribution within the range specified\n",
    "#     translation = np.random.uniform(-2, 2, (1, 2))\n",
    "#     rotation = np.random.uniform(-15, 15, 1)\n",
    "#     scale = np.random.uniform(0.9, 1.1, (1, 2))\n",
    "#     scale = scale[0]\n",
    "#     tform = AffineTransform(scale = scale, translation = translation, rotation = np.deg2rad(rotation))\n",
    "#     image_append = np.array([255*warp(image, tform)], dtype = \"uint8\")\n",
    "#     #print(image_append)\n",
    "#     #plt.imshow(X_train_augmented[i].squeeze()), plt.show()\n",
    "#     X_train_augmented = np.append(X_train_augmented, image_append, axis = 0)\n",
    "#     #plt.imshow(X_train_augmented[0].squeeze()), plt.show()\n",
    "#     #print(X_train_augmented[-1,:,:,:])\n",
    "#     #plt.imshow(X_train_augmented[len(X_train)+i].squeeze()), plt.show()\n",
    "#     y_train_augmented = np.append(y_train_augmented, y_train[i])\n",
    "#     #print(y_train_augmented.shape)\n",
    "#     #print(y_train_augmented[0]), print(y_train_augmented[len(y_train)+i])\n",
    "\n",
    "    "
   ]
  },
  {
   "cell_type": "code",
   "execution_count": 10,
   "metadata": {
    "collapsed": true
   },
   "outputs": [],
   "source": [
    "# import pickle\n",
    "# import numpy as np\n",
    "# f = open('y_train_augmented.p', 'wb')\n",
    "# g = open('X_train_augmented.p', 'wb')\n",
    "# pickle.dump(y_train_augmented, f)\n",
    "# pickle.dump(X_train_augmented, g)\n",
    "# f.close()\n",
    "# g.close()\n"
   ]
  },
  {
   "cell_type": "code",
   "execution_count": 11,
   "metadata": {
    "collapsed": true
   },
   "outputs": [],
   "source": [
    "# Use the mean, max and min from the training set to normalize all other sets!\n",
    "\n",
<<<<<<< HEAD
    "# X_train = (X_train - 128.) / 128\n",
    "# X_valid = (X_valid - 128.) / 128\n",
    "# X_test = (X_test - 128.) / 128\n",
    "\n",
    "X_train = (X_train/255.) - 0.5\n",
    "X_valid = (X_valid/255.) - 0.5\n",
    "X_test = (X_test/255.) - 0.5\n"
=======
    "X_train = (X_train/255.) - 0.5\n",
    "X_valid = (X_valid/255.) - 0.5\n",
    "X_test = (X_test/255.) - 0.5"
>>>>>>> f7be30e06d7777ec0f00254456f91e4d39fe2836
   ]
  },
  {
   "cell_type": "markdown",
   "metadata": {},
   "source": [
    "### Model Architecture"
   ]
  },
  {
   "cell_type": "code",
<<<<<<< HEAD
   "execution_count": 22,
=======
   "execution_count": null,
>>>>>>> f7be30e06d7777ec0f00254456f91e4d39fe2836
   "metadata": {
    "collapsed": true
   },
   "outputs": [],
   "source": [
    "import tensorflow as tf\n",
    "from tensorflow.contrib.layers import flatten\n",
    "xglorot = False\n",
    "if xglorot:\n",
    "    def weight_variable(shape, mean, std, name):\n",
    "        fan_in = np.prod(shape[:-1])\n",
    "        initial = np.random.randn(*shape) / np.sqrt(fan_in / 2.)\n",
    "        return tf.Variable(initial, dtype = tf.float32)\n",
    "else:\n",
    "    def weight_variable(shape, mean, sigma, name):\n",
    "         return tf.Variable(tf.random_normal(shape, mean, sigma), name = name)\n",
    "\n",
    "def bias_variable(shape, name):\n",
    "    # create bias variable given 1-D shape of fan_out\n",
    "    return tf.Variable(tf.constant(0.1, shape = shape), dtype = tf.float32, name = name)\n",
    "def dropout(layer, keep_prob):\n",
    "    return tf.nn.dropout(layer, keep_prob)   \n",
    "\n",
    "# L1 through Lout define the depth of each of the layers.\n",
    "# Named variables and placeholders so the names can be used when the saved session is restored. \n",
    "# Named certain operations as well for the same reason\n",
    "rate = 10*1e-4\n",
    "mu = 0\n",
    "sigma = 0.1\n",
    "L1 = 6\n",
    "L2 = 16\n",
    "L3 = 120\n",
    "L4 = 84\n",
    "Lout = 43\n",
    "KEEP_PROB1 = 1.0\n",
    "KEEP_PROB2 = 0.5\n",
    "\n",
    "x = tf.placeholder(tf.float32, (None, 32, 32, 3), name = \"x\")\n",
    "y = tf.placeholder(tf.int32, (None), name = \"y\")\n",
    "    \n",
    "# SOLUTION: Layer 1: Convolutional. Input = 32x32x3. Output = 28x28xL1.\n",
    "conv1_W = weight_variable((5, 5, 3, L1), mu, sigma, \"conv1_W\")\n",
    "conv1_b = bias_variable([L1], \"conv1_b\")\n",
    "conv1   = tf.add(tf.nn.conv2d(x, conv1_W, strides=[1, 1, 1, 1], padding='VALID'), conv1_b, name = \"conv1_op\")\n",
    "#conv1_layer = tf.get_variable(\"conv1_layer\", dtype=tf.float32, \n",
    "#  initializer=conv1, validate_shape = False)\n",
    "\n",
    "# SOLUTION: Activation.\n",
    "conv1 = tf.nn.relu(conv1, name = \"conv1_relu\")\n",
    "\n",
    "# SOLUTION: Pooling. Input = 28x28xL1. Output = 14x14xL1.\n",
    "conv1 = tf.nn.max_pool(conv1, ksize=[1, 2, 2, 1], strides=[1, 2, 2, 1], padding='VALID')\n",
    "\n",
    "# SOLUTION: Layer 2: Convolutional. Output = 10x10x16.\n",
    "#conv2_W = tf.Variable(tf.random_uniform(shape=(5, 5, 6, 16), minval=-2.45/np.sqrt(5*5*6*16), maxval=+2.45/np.sqrt(5*5*6*16)))\n",
    "conv2_W = weight_variable((5, 5, L1, L2), mu, sigma, \"conv2_W\")\n",
    "conv2_b = bias_variable([L2], \"conv2_b\")\n",
    "conv2   = tf.add(tf.nn.conv2d(conv1, conv2_W, strides=[1, 1, 1, 1], padding='VALID'), conv2_b, name = \"conv2_op\")\n",
    "#conv2_layer = tf.get_variable(\"conv2_layer\", dtype=tf.float32, \n",
    "# initializer=conv2, validate_shape = False)\n",
    "# SOLUTION: Activation.\n",
    "conv2 = tf.nn.relu(conv2, name = \"conv2_relu\")\n",
    "\n",
    "# SOLUTION: Pooling. Input = 10x10xL2. Output = 5x5xL2.\n",
    "conv2 = tf.nn.max_pool(conv2, ksize=[1, 2, 2, 1], strides=[1, 2, 2, 1], padding='VALID')\n",
    "\n",
    "# SOLUTION: Flatten. Input = 5x5xL2. Output = 5*5*L2.\n",
    "fc0   = flatten(conv2)\n",
    "    \n",
    "# SOLUTION: Layer 3: Fully Connected. Input = 5*5*L2. Output = L3.\n",
    "#fc1_W = tf.Variable(tf.random_uniform(shape=(400, 120), minval=-2.45/np.sqrt(400*120), maxval=2.45/np.sqrt(400*120)))\n",
    "fc1_W = weight_variable((5*5*L2, L3), mu, sigma, \"fc1_W\")\n",
    "fc1_b = bias_variable([L3], \"fc1_b\")\n",
    "fc1   = tf.matmul(fc0, fc1_W) + fc1_b\n",
    "    \n",
    "# SOLUTION: Activation.\n",
    "fc1    = tf.nn.relu(fc1)\n",
    "fc1 = dropout(fc1, KEEP_PROB1)\n",
    "\n",
    "# SOLUTION: Layer 4: Fully Connected. Input = L3. Output = L4.\n",
    "#fc2_W  = tf.Variable(tf.random_uniform(shape=(120, 84), minval=-2.45/np.sqrt(400*120), maxval = 2.45/np.sqrt(400*120)))\n",
    "fc2_W = weight_variable((L3, L4), mu, sigma, \"fc2_W\")\n",
    "fc2_b  = bias_variable([L4], \"fc2_b\")\n",
    "fc2    = tf.matmul(fc1, fc2_W) + fc2_b\n",
    "    \n",
    "# SOLUTION: Activation.\n",
    "fc2    = tf.nn.relu(fc2)\n",
    "fc2 = dropout(fc2, KEEP_PROB2)\n",
    "\n",
    "# SOLUTION: Layer 5: Fully Connected. Input = L4. Output = Lout.\n",
    "fc3_W = weight_variable((L4, Lout), mu, sigma, \"fc3_W\")\n",
    "fc3_b  = bias_variable([Lout], \"fc3_b\")\n",
    "logits = tf.add(tf.matmul(fc2, fc3_W), fc3_b, name = \"logits_op\")\n",
    "\n",
    "# We rescale the logits tensor as softmax involves taking e^logits and this may become too large if the logits are big.\n",
    "# This is actually done implicitly within the softmax cross entropy function.\n",
    "logits_rescaled = tf.transpose(tf.subtract(tf.transpose(logits), tf.reduce_max(logits, axis = 1)))\n",
    "\n",
    "one_hot_y = tf.one_hot(y, Lout, name = \"one_hot_op\")\n",
    "cross_entropy = tf.nn.softmax_cross_entropy_with_logits(labels=one_hot_y, logits=logits, name = \"cross_entropy_op\")\n",
    "loss_operation = tf.reduce_mean(cross_entropy, name = \"loss_op\")\n",
    "optimizer = tf.train.AdamOptimizer(learning_rate = rate)\n",
    "training_operation = optimizer.minimize(loss_operation)\n",
    "correct_prediction = tf.equal(tf.argmax(logits, 1), tf.argmax(one_hot_y, 1), name = \"correct_pred_op\")\n",
    "accuracy_operation = tf.reduce_mean(tf.cast(correct_prediction, tf.float32), name = \"accuracy_op\")"
   ]
  },
  {
   "cell_type": "markdown",
   "metadata": {},
   "source": [
    "### Train, Validate and Test the Model"
   ]
  },
  {
   "cell_type": "markdown",
   "metadata": {},
   "source": [
    "A validation set can be used to assess how well the model is performing. A low accuracy on the training and validation\n",
    "sets imply underfitting. A high accuracy on the training set but low accuracy on the validation set implies overfitting."
   ]
  },
  {
   "cell_type": "code",
   "execution_count": 23,
   "metadata": {
    "collapsed": true
   },
   "outputs": [],
   "source": [
    "### Train your model here.\n",
    "### Calculate and report the accuracy on the training and validation set.\n",
    "### Once a final model architecture is selected, \n",
    "### the accuracy on the test set should be calculated and reported as well.\n",
    "### Feel free to use as many code cells as needed.\n",
    "saver = tf.train.Saver()\n",
    "\n",
    "def evaluate(X_data, y_data):\n",
    "    num_examples = len(X_data)\n",
    "    total_accuracy = 0\n",
    "    sess = tf.get_default_session()\n",
    "    for offset in range(0, num_examples, BATCH_SIZE):\n",
    "        batch_x, batch_y = X_data[offset:offset+BATCH_SIZE], y_data[offset:offset+BATCH_SIZE]\n",
    "        accuracy = sess.run(accuracy_operation, feed_dict={x: batch_x, y: batch_y})\n",
    "        total_accuracy += (accuracy * len(batch_x))\n",
    "    return total_accuracy / num_examples\n"
   ]
  },
  {
   "cell_type": "code",
<<<<<<< HEAD
   "execution_count": 24,
   "metadata": {},
   "outputs": [
    {
     "name": "stdout",
     "output_type": "stream",
     "text": [
      "Training...\n",
      "EPOCH 1 ...\n",
      "Average Training Cost =  2.14373765155\n",
      "Validation Cost =  1.30253\n",
      "Validation Accuracy = 0.601\n",
      "Training Accuracy = 0.660\n",
      "\n",
      "EPOCH 2 ...\n",
      "Average Training Cost =  0.796605834992\n",
      "Validation Cost =  0.795311\n",
      "Validation Accuracy = 0.761\n",
      "Training Accuracy = 0.825\n",
      "\n",
      "EPOCH 3 ...\n",
      "Average Training Cost =  0.477166410962\n",
      "Validation Cost =  0.618527\n",
      "Validation Accuracy = 0.817\n",
      "Training Accuracy = 0.884\n",
      "\n",
      "EPOCH 4 ...\n",
      "Average Training Cost =  0.347940970501\n",
      "Validation Cost =  0.51685\n",
      "Validation Accuracy = 0.848\n",
      "Training Accuracy = 0.914\n",
      "\n",
      "EPOCH 5 ...\n",
      "Average Training Cost =  0.272699983852\n",
      "Validation Cost =  0.484934\n",
      "Validation Accuracy = 0.860\n",
      "Training Accuracy = 0.924\n",
      "\n",
      "EPOCH 6 ...\n",
      "Average Training Cost =  0.224440852957\n",
      "Validation Cost =  0.452346\n",
      "Validation Accuracy = 0.874\n",
      "Training Accuracy = 0.937\n",
      "\n",
      "EPOCH 7 ...\n",
      "Average Training Cost =  0.192140162019\n",
      "Validation Cost =  0.445867\n",
      "Validation Accuracy = 0.878\n",
      "Training Accuracy = 0.950\n",
      "\n",
      "EPOCH 8 ...\n",
      "Average Training Cost =  0.159704169224\n",
      "Validation Cost =  0.415574\n",
      "Validation Accuracy = 0.896\n",
      "Training Accuracy = 0.954\n",
      "\n",
      "EPOCH 9 ...\n",
      "Average Training Cost =  0.138370332037\n",
      "Validation Cost =  0.396944\n",
      "Validation Accuracy = 0.894\n",
      "Training Accuracy = 0.964\n",
      "\n",
      "EPOCH 10 ...\n",
      "Average Training Cost =  0.121660762071\n",
      "Validation Cost =  0.380999\n",
      "Validation Accuracy = 0.898\n",
      "Training Accuracy = 0.963\n",
      "\n",
      "EPOCH 11 ...\n",
      "Average Training Cost =  0.111502577307\n",
      "Validation Cost =  0.335797\n",
      "Validation Accuracy = 0.909\n",
      "Training Accuracy = 0.969\n",
      "\n",
      "EPOCH 12 ...\n",
      "Average Training Cost =  0.0981624003541\n",
      "Validation Cost =  0.385375\n",
      "Validation Accuracy = 0.902\n",
      "Training Accuracy = 0.972\n",
      "\n",
      "EPOCH 13 ...\n",
      "Average Training Cost =  0.0878285468724\n",
      "Validation Cost =  0.357909\n",
      "Validation Accuracy = 0.907\n",
      "Training Accuracy = 0.976\n",
      "\n",
      "EPOCH 14 ...\n",
      "Average Training Cost =  0.0780872816557\n",
      "Validation Cost =  0.365906\n",
      "Validation Accuracy = 0.914\n",
      "Training Accuracy = 0.977\n",
      "\n",
      "EPOCH 15 ...\n",
      "Average Training Cost =  0.067959496992\n",
      "Validation Cost =  0.362867\n",
      "Validation Accuracy = 0.905\n",
      "Training Accuracy = 0.979\n",
      "\n",
      "EPOCH 16 ...\n",
      "Average Training Cost =  0.06650275691\n",
      "Validation Cost =  0.389779\n",
      "Validation Accuracy = 0.909\n",
      "Training Accuracy = 0.976\n",
      "\n",
      "EPOCH 17 ...\n",
      "Average Training Cost =  0.0593369159542\n",
      "Validation Cost =  0.387576\n",
      "Validation Accuracy = 0.910\n",
      "Training Accuracy = 0.980\n",
      "\n",
      "EPOCH 18 ...\n",
      "Average Training Cost =  0.0546258740416\n",
      "Validation Cost =  0.330187\n",
      "Validation Accuracy = 0.922\n",
      "Training Accuracy = 0.986\n",
      "\n",
      "EPOCH 19 ...\n",
      "Average Training Cost =  0.0496420031826\n",
      "Validation Cost =  0.364615\n",
      "Validation Accuracy = 0.913\n",
      "Training Accuracy = 0.984\n",
      "\n",
      "EPOCH 20 ...\n",
      "Average Training Cost =  0.0463598288847\n",
      "Validation Cost =  0.383593\n",
      "Validation Accuracy = 0.924\n",
      "Training Accuracy = 0.984\n",
      "\n",
      "EPOCH 21 ...\n",
      "Average Training Cost =  0.0446178436905\n",
      "Validation Cost =  0.314314\n",
      "Validation Accuracy = 0.931\n",
      "Training Accuracy = 0.986\n",
      "\n",
      "EPOCH 22 ...\n",
      "Average Training Cost =  0.0412397649641\n",
      "Validation Cost =  0.321785\n",
      "Validation Accuracy = 0.921\n",
      "Training Accuracy = 0.987\n",
      "\n",
      "EPOCH 23 ...\n",
      "Average Training Cost =  0.0379931963869\n",
      "Validation Cost =  0.391703\n",
      "Validation Accuracy = 0.918\n",
      "Training Accuracy = 0.985\n",
      "\n",
      "EPOCH 24 ...\n",
      "Average Training Cost =  0.0366767481557\n",
      "Validation Cost =  0.304365\n",
      "Validation Accuracy = 0.929\n",
      "Training Accuracy = 0.991\n",
      "\n",
      "EPOCH 25 ...\n",
      "Average Training Cost =  0.0351400755172\n",
      "Validation Cost =  0.399657\n",
      "Validation Accuracy = 0.922\n",
      "Training Accuracy = 0.988\n",
      "\n",
      "EPOCH 26 ...\n",
      "Average Training Cost =  0.0335765298837\n",
      "Validation Cost =  0.357273\n",
      "Validation Accuracy = 0.921\n",
      "Training Accuracy = 0.988\n",
      "\n",
      "EPOCH 27 ...\n",
      "Average Training Cost =  0.0314215633063\n",
      "Validation Cost =  0.396852\n",
      "Validation Accuracy = 0.921\n",
      "Training Accuracy = 0.990\n",
      "\n",
      "EPOCH 28 ...\n",
      "Average Training Cost =  0.0271604568659\n",
      "Validation Cost =  0.358435\n",
      "Validation Accuracy = 0.929\n",
      "Training Accuracy = 0.993\n",
      "\n",
      "EPOCH 29 ...\n",
      "Average Training Cost =  0.0280455263594\n",
      "Validation Cost =  0.400478\n",
      "Validation Accuracy = 0.927\n",
      "Training Accuracy = 0.990\n",
      "\n",
      "EPOCH 30 ...\n",
      "Average Training Cost =  0.0285718953533\n",
      "Validation Cost =  0.39176\n",
      "Validation Accuracy = 0.924\n",
      "Training Accuracy = 0.992\n",
      "\n",
      "EPOCH 31 ...\n",
      "Average Training Cost =  0.025450630589\n",
      "Validation Cost =  0.407496\n",
      "Validation Accuracy = 0.923\n",
      "Training Accuracy = 0.990\n",
      "\n",
      "EPOCH 32 ...\n",
      "Average Training Cost =  0.0268134480803\n",
      "Validation Cost =  0.402324\n",
      "Validation Accuracy = 0.925\n",
      "Training Accuracy = 0.991\n",
      "\n",
      "EPOCH 33 ...\n",
      "Average Training Cost =  0.0256762484078\n",
      "Validation Cost =  0.394209\n",
      "Validation Accuracy = 0.928\n",
      "Training Accuracy = 0.991\n",
      "\n",
      "EPOCH 34 ...\n",
      "Average Training Cost =  0.02180115428\n",
      "Validation Cost =  0.36869\n",
      "Validation Accuracy = 0.928\n",
      "Training Accuracy = 0.993\n",
      "\n",
      "EPOCH 35 ...\n",
      "Average Training Cost =  0.0206588922199\n",
      "Validation Cost =  0.443056\n",
      "Validation Accuracy = 0.932\n",
      "Training Accuracy = 0.993\n",
      "\n",
      "EPOCH 36 ...\n",
      "Average Training Cost =  0.025227107831\n",
      "Validation Cost =  0.440545\n",
      "Validation Accuracy = 0.925\n",
      "Training Accuracy = 0.994\n",
      "\n",
      "EPOCH 37 ...\n",
      "Average Training Cost =  0.0196779036499\n",
      "Validation Cost =  0.366758\n",
      "Validation Accuracy = 0.937\n",
      "Training Accuracy = 0.994\n",
      "\n",
      "EPOCH 38 ...\n",
      "Average Training Cost =  0.0223373128154\n",
      "Validation Cost =  0.368257\n",
      "Validation Accuracy = 0.930\n",
      "Training Accuracy = 0.994\n",
      "\n",
      "EPOCH 39 ...\n",
      "Average Training Cost =  0.0211817941983\n",
      "Validation Cost =  0.428624\n",
      "Validation Accuracy = 0.933\n",
      "Training Accuracy = 0.993\n",
      "\n",
      "EPOCH 40 ...\n",
      "Average Training Cost =  0.0173430342923\n",
      "Validation Cost =  0.380872\n",
      "Validation Accuracy = 0.937\n",
      "Training Accuracy = 0.996\n",
      "\n",
      "EPOCH 41 ...\n",
      "Average Training Cost =  0.0171602007783\n",
      "Validation Cost =  0.403511\n",
      "Validation Accuracy = 0.934\n",
      "Training Accuracy = 0.994\n",
      "\n",
      "EPOCH 42 ...\n",
      "Average Training Cost =  0.0191850554497\n",
      "Validation Cost =  0.389113\n",
      "Validation Accuracy = 0.941\n",
      "Training Accuracy = 0.995\n",
      "\n",
      "EPOCH 43 ...\n",
      "Average Training Cost =  0.0210344625901\n",
      "Validation Cost =  0.444674\n",
      "Validation Accuracy = 0.923\n",
      "Training Accuracy = 0.992\n",
      "\n",
      "EPOCH 44 ...\n",
      "Average Training Cost =  0.0177467138212\n",
      "Validation Cost =  0.40361\n",
      "Validation Accuracy = 0.938\n",
      "Training Accuracy = 0.994\n",
      "\n",
      "EPOCH 45 ...\n",
      "Average Training Cost =  0.0124482541849\n",
      "Validation Cost =  0.408615\n",
      "Validation Accuracy = 0.942\n",
      "Training Accuracy = 0.997\n",
      "\n",
      "EPOCH 46 ...\n",
      "Average Training Cost =  0.0112433350534\n",
      "Validation Cost =  0.400031\n",
      "Validation Accuracy = 0.944\n",
      "Training Accuracy = 0.996\n",
      "\n",
      "EPOCH 47 ...\n",
      "Average Training Cost =  0.0138459190308\n",
      "Validation Cost =  0.419699\n",
      "Validation Accuracy = 0.939\n",
      "Training Accuracy = 0.996\n",
      "\n",
      "EPOCH 48 ...\n",
      "Average Training Cost =  0.0159647619764\n",
      "Validation Cost =  0.449287\n",
      "Validation Accuracy = 0.936\n",
      "Training Accuracy = 0.994\n",
      "\n",
      "EPOCH 49 ...\n",
      "Average Training Cost =  0.0130550696662\n",
      "Validation Cost =  0.455731\n",
      "Validation Accuracy = 0.938\n",
      "Training Accuracy = 0.997\n",
      "\n",
      "EPOCH 50 ...\n",
      "Average Training Cost =  0.0125849524625\n",
      "Validation Cost =  0.412286\n",
      "Validation Accuracy = 0.942\n",
      "Training Accuracy = 0.996\n",
      "\n"
     ]
    },
    {
     "data": {
      "image/png": "iVBORw0KGgoAAAANSUhEUgAAAXcAAAEICAYAAACktLTqAAAABHNCSVQICAgIfAhkiAAAAAlwSFlz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\n",
      "text/plain": [
       "<matplotlib.figure.Figure at 0x7f18045f7c18>"
      ]
     },
     "metadata": {},
     "output_type": "display_data"
    },
    {
     "data": {
      "text/plain": [
       "<matplotlib.figure.Figure at 0x7f18045efeb8>"
      ]
     },
     "metadata": {},
     "output_type": "display_data"
    },
    {
     "data": {
      "image/png": "iVBORw0KGgoAAAANSUhEUgAAAX0AAAEICAYAAACzliQjAAAABHNCSVQICAgIfAhkiAAAAAlwSFlz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\no9dQAAAAAElFTkSuQmCC\n",
      "text/plain": [
       "<matplotlib.figure.Figure at 0x7f18045b4a20>"
      ]
     },
     "metadata": {},
     "output_type": "display_data"
    },
    {
     "name": "stdout",
     "output_type": "stream",
     "text": [
      "Model saved\n"
     ]
    },
    {
     "data": {
      "text/plain": [
       "<matplotlib.figure.Figure at 0x7f17eef7ea90>"
      ]
     },
     "metadata": {},
     "output_type": "display_data"
    }
   ],
=======
   "execution_count": null,
   "metadata": {
    "collapsed": true
   },
   "outputs": [],
>>>>>>> f7be30e06d7777ec0f00254456f91e4d39fe2836
   "source": [
    "EPOCHS = 50\n",
    "BATCH_SIZE = 128\n",
    "development = False\n",
    "tc = []\n",
    "vc = []\n",
    "ta = []\n",
    "va = []\n",
    "epochs = []\n",
    "with tf.Session() as sess:\n",
    "    sess.run(tf.global_variables_initializer())\n",
    "    if development == True:\n",
    "        num_examples = 128\n",
    "    else:\n",
    "        num_examples = len(X_train)\n",
    "    num_batches = np.int(num_examples / BATCH_SIZE)\n",
    "    \n",
    "    print(\"Training...\")\n",
    "    for i in range(EPOCHS):\n",
    "        avg_train_cost = 0\n",
    "        avg_valid_cost = 0\n",
    "        X_train, y_train = shuffle(X_train, y_train)\n",
    "        for offset in range(0, num_examples, BATCH_SIZE):\n",
    "            end = offset + BATCH_SIZE\n",
    "            batch_x, batch_y = X_train[offset:end], y_train[offset:end]\n",
    "            \n",
    "            sess.run([training_operation], feed_dict={x: batch_x, y: batch_y})\n",
    "            #print(sess.run(conv1_W))\n",
    "            train_cost = sess.run(loss_operation, feed_dict={x:batch_x, y:batch_y})            \n",
    "            avg_train_cost += train_cost/ (num_batches)\n",
    "            \n",
    "        valid_cost = sess.run(loss_operation, feed_dict={x:X_valid, y:y_valid})    \n",
    "        epochs.append(i+1)\n",
    "        tc.append(avg_train_cost)\n",
    "        vc.append(valid_cost)        \n",
    "        validation_accuracy = evaluate(X_valid, y_valid)\n",
    "        training_accuracy = evaluate(X_train[:(num_examples)], y_train[:(num_examples)])\n",
    "        ta.append(training_accuracy)\n",
    "        va.append(validation_accuracy)\n",
    "        print(\"EPOCH {} ...\".format(i+1))        \n",
    "        print(\"Average Training Cost = \", avg_train_cost)\n",
    "        print(\"Validation Cost = \", valid_cost)\n",
    "        print(\"Validation Accuracy = {:.3f}\".format(validation_accuracy))\n",
    "        print(\"Training Accuracy = {:.3f}\".format(training_accuracy))\n",
    "        print()\n",
    "    plt.figure(1), plt.title(\"Error vs Epochs\")\n",
    "    plt.plot(epochs, tc, 'r-', label = \"Training Cost\")\n",
    "    plt.plot(epochs, vc, 'b-', label = \"Validation Cost\")\n",
    "    plt.legend(loc = \"upper right\"), plt.show(), plt.savefig(\"ErrorPlot.png\") \n",
    "    \n",
    "    plt.figure(2), plt.title(\"Accuracy vs Epochs, Vacc : {:0.3f}\".format(validation_accuracy))\n",
    "    plt.plot(epochs, ta, 'r-', label = \"Training Accuracy\")\n",
    "    plt.plot(epochs, va, 'b-', label = \"Validation Accuracy\")\n",
    "    plt.legend(loc = \"upper right\"), plt.show(), plt.savefig(\"AccuracyPlot.png\")\n",
    "    \n",
    "    saver.save(sess, './leneta.ckpt')\n",
    "    print(\"Model saved\")"
   ]
  },
  {
   "cell_type": "code",
   "execution_count": null,
   "metadata": {
    "collapsed": true
   },
   "outputs": [],
   "source": [
    "# Here we need to find the testing accuracy. After we have decided on the network architecture and hyperparameters.\n",
    "# We load the trained network and variables. And run it on the test set.\n",
    "# with tf.Session() as sess:\n",
    "    # saver = tf.train.import_meta_graph('./lenet.ckpt.meta')\n",
    "    # saver.restore(sess, \"./lenet.ckpt\")\n",
    "    # test_accuracy = evaluate(X_test, y_test)\n",
    "    # print(\"Test Accuracy = {:.3f}\".format(test_accuracy))"
   ]
  },
  {
   "cell_type": "markdown",
   "metadata": {},
   "source": [
    "---\n",
    "\n",
    "## Step 3: Test a Model on New Images\n",
    "\n",
    "To give yourself more insight into how your model is working, download at least five pictures of German traffic signs from the web and use your model to predict the traffic sign type.\n",
    "\n",
    "You may find `signnames.csv` useful as it contains mappings from the class id (integer) to the actual sign name."
   ]
  },
  {
   "cell_type": "markdown",
   "metadata": {},
   "source": [
    "### Load and Output the Images"
   ]
  },
  {
   "cell_type": "code",
   "execution_count": 19,
   "metadata": {
    "collapsed": true
   },
   "outputs": [],
   "source": [
    "### Load the images and plot them here.\n",
    "### Feel free to use as many code cells as needed.\n",
    "# Define a function to load and plot an image using a given path.\n",
    "import cv2\n",
    "import csv\n",
    "def load_plot(path):\n",
    "    img = cv2.imread(path)\n",
    "    img = cv2.cvtColor(img, cv2.COLOR_BGR2RGB)\n",
    "    plt.imshow(img, cmap = 'gray'), plt.show()"
   ]
  },
  {
   "cell_type": "markdown",
   "metadata": {},
   "source": [
    "### Predict the Sign Type for Each Image\n"
   ]
  },
  {
   "cell_type": "code",
<<<<<<< HEAD
   "execution_count": 20,
   "metadata": {},
   "outputs": [
    {
     "ename": "OSError",
     "evalue": "File ./lenet.ckpt.meta does not exist.",
     "output_type": "error",
     "traceback": [
      "\u001b[0;31m---------------------------------------------------------------------------\u001b[0m",
      "\u001b[0;31mOSError\u001b[0m                                   Traceback (most recent call last)",
      "\u001b[0;32m<ipython-input-20-b1883973430f>\u001b[0m in \u001b[0;36m<module>\u001b[0;34m()\u001b[0m\n\u001b[1;32m     54\u001b[0m \u001b[0my\u001b[0m \u001b[0;34m=\u001b[0m \u001b[0mnp\u001b[0m\u001b[0;34m.\u001b[0m\u001b[0marray\u001b[0m\u001b[0;34m(\u001b[0m\u001b[0;34m[\u001b[0m\u001b[0;36m14\u001b[0m\u001b[0;34m,\u001b[0m \u001b[0;36m33\u001b[0m\u001b[0;34m,\u001b[0m \u001b[0;36m4\u001b[0m\u001b[0;34m,\u001b[0m \u001b[0;36m13\u001b[0m\u001b[0;34m,\u001b[0m \u001b[0;36m27\u001b[0m\u001b[0;34m]\u001b[0m\u001b[0;34m)\u001b[0m\u001b[0;34m\u001b[0m\u001b[0m\n\u001b[1;32m     55\u001b[0m \u001b[0;32mwith\u001b[0m \u001b[0mtf\u001b[0m\u001b[0;34m.\u001b[0m\u001b[0mSession\u001b[0m\u001b[0;34m(\u001b[0m\u001b[0;34m)\u001b[0m \u001b[0;32mas\u001b[0m \u001b[0msess\u001b[0m\u001b[0;34m:\u001b[0m\u001b[0;34m\u001b[0m\u001b[0m\n\u001b[0;32m---> 56\u001b[0;31m     \u001b[0msaver\u001b[0m \u001b[0;34m=\u001b[0m \u001b[0mtf\u001b[0m\u001b[0;34m.\u001b[0m\u001b[0mtrain\u001b[0m\u001b[0;34m.\u001b[0m\u001b[0mimport_meta_graph\u001b[0m\u001b[0;34m(\u001b[0m\u001b[0msave_filemeta\u001b[0m\u001b[0;34m)\u001b[0m\u001b[0;34m\u001b[0m\u001b[0m\n\u001b[0m\u001b[1;32m     57\u001b[0m     \u001b[0msaver\u001b[0m\u001b[0;34m.\u001b[0m\u001b[0mrestore\u001b[0m\u001b[0;34m(\u001b[0m\u001b[0msess\u001b[0m\u001b[0;34m,\u001b[0m \u001b[0msave_fileckpt\u001b[0m\u001b[0;34m)\u001b[0m\u001b[0;34m\u001b[0m\u001b[0m\n\u001b[1;32m     58\u001b[0m     \u001b[0;32mfor\u001b[0m \u001b[0mi\u001b[0m \u001b[0;32min\u001b[0m \u001b[0mrange\u001b[0m\u001b[0;34m(\u001b[0m\u001b[0mnum_images\u001b[0m\u001b[0;34m)\u001b[0m\u001b[0;34m:\u001b[0m\u001b[0;34m\u001b[0m\u001b[0m\n",
      "\u001b[0;32m/home/carnd/anaconda3/envs/carnd-term1/lib/python3.5/site-packages/tensorflow/python/training/saver.py\u001b[0m in \u001b[0;36mimport_meta_graph\u001b[0;34m(meta_graph_or_file, clear_devices, import_scope, **kwargs)\u001b[0m\n\u001b[1;32m   1517\u001b[0m   \"\"\"\n\u001b[1;32m   1518\u001b[0m   \u001b[0;32mif\u001b[0m \u001b[0;32mnot\u001b[0m \u001b[0misinstance\u001b[0m\u001b[0;34m(\u001b[0m\u001b[0mmeta_graph_or_file\u001b[0m\u001b[0;34m,\u001b[0m \u001b[0mmeta_graph_pb2\u001b[0m\u001b[0;34m.\u001b[0m\u001b[0mMetaGraphDef\u001b[0m\u001b[0;34m)\u001b[0m\u001b[0;34m:\u001b[0m\u001b[0;34m\u001b[0m\u001b[0m\n\u001b[0;32m-> 1519\u001b[0;31m     \u001b[0mmeta_graph_def\u001b[0m \u001b[0;34m=\u001b[0m \u001b[0mmeta_graph\u001b[0m\u001b[0;34m.\u001b[0m\u001b[0mread_meta_graph_file\u001b[0m\u001b[0;34m(\u001b[0m\u001b[0mmeta_graph_or_file\u001b[0m\u001b[0;34m)\u001b[0m\u001b[0;34m\u001b[0m\u001b[0m\n\u001b[0m\u001b[1;32m   1520\u001b[0m   \u001b[0;32melse\u001b[0m\u001b[0;34m:\u001b[0m\u001b[0;34m\u001b[0m\u001b[0m\n\u001b[1;32m   1521\u001b[0m     \u001b[0mmeta_graph_def\u001b[0m \u001b[0;34m=\u001b[0m \u001b[0mmeta_graph_or_file\u001b[0m\u001b[0;34m\u001b[0m\u001b[0m\n",
      "\u001b[0;32m/home/carnd/anaconda3/envs/carnd-term1/lib/python3.5/site-packages/tensorflow/python/framework/meta_graph.py\u001b[0m in \u001b[0;36mread_meta_graph_file\u001b[0;34m(filename)\u001b[0m\n\u001b[1;32m    404\u001b[0m   \u001b[0mmeta_graph_def\u001b[0m \u001b[0;34m=\u001b[0m \u001b[0mmeta_graph_pb2\u001b[0m\u001b[0;34m.\u001b[0m\u001b[0mMetaGraphDef\u001b[0m\u001b[0;34m(\u001b[0m\u001b[0;34m)\u001b[0m\u001b[0;34m\u001b[0m\u001b[0m\n\u001b[1;32m    405\u001b[0m   \u001b[0;32mif\u001b[0m \u001b[0;32mnot\u001b[0m \u001b[0mfile_io\u001b[0m\u001b[0;34m.\u001b[0m\u001b[0mfile_exists\u001b[0m\u001b[0;34m(\u001b[0m\u001b[0mfilename\u001b[0m\u001b[0;34m)\u001b[0m\u001b[0;34m:\u001b[0m\u001b[0;34m\u001b[0m\u001b[0m\n\u001b[0;32m--> 406\u001b[0;31m     \u001b[0;32mraise\u001b[0m \u001b[0mIOError\u001b[0m\u001b[0;34m(\u001b[0m\u001b[0;34m\"File %s does not exist.\"\u001b[0m \u001b[0;34m%\u001b[0m \u001b[0mfilename\u001b[0m\u001b[0;34m)\u001b[0m\u001b[0;34m\u001b[0m\u001b[0m\n\u001b[0m\u001b[1;32m    407\u001b[0m   \u001b[0;31m# First try to read it as a binary file.\u001b[0m\u001b[0;34m\u001b[0m\u001b[0;34m\u001b[0m\u001b[0m\n\u001b[1;32m    408\u001b[0m   \u001b[0mfile_content\u001b[0m \u001b[0;34m=\u001b[0m \u001b[0mfile_io\u001b[0m\u001b[0;34m.\u001b[0m\u001b[0mread_file_to_string\u001b[0m\u001b[0;34m(\u001b[0m\u001b[0mfilename\u001b[0m\u001b[0;34m)\u001b[0m\u001b[0;34m\u001b[0m\u001b[0m\n",
      "\u001b[0;31mOSError\u001b[0m: File ./lenet.ckpt.meta does not exist."
     ]
    }
   ],
=======
   "execution_count": null,
   "metadata": {
    "collapsed": true
   },
   "outputs": [],
>>>>>>> f7be30e06d7777ec0f00254456f91e4d39fe2836
   "source": [
    "### Run the predictions here and use the model to output the prediction for each image.\n",
    "### Make sure to pre-process the images with the same pre-processing pipeline used earlier.\n",
    "### Feel free to use as many code cells as needed.\n",
    "# Here we define two functions\n",
    "# The first is a function that returns a preprocessed image given the path to the image.\n",
    "# The second is a function that accepts the preprocessed image and returns the prediction of which traffic sign\n",
    "# this image represents.\n",
    "if windows:\n",
    "    ospath == 'C:/Users/lenovo/Documents/SDCND/Traffic-Sign-Classifier-New/'\n",
    "else:\n",
    "    ospath = ''\n",
    "save_filemeta = './leneta.ckpt.meta'\n",
    "save_fileckpt = './leneta.ckpt'\n",
    "%matplotlib inline\n",
    "from matplotlib import pyplot as plt\n",
    "import cv2\n",
    "import numpy as np\n",
    "import csv\n",
    "import tensorflow as tf\n",
    "\n",
    "def preprocess(path):\n",
    "    img = cv2.imread(path)\n",
    "    img = cv2.cvtColor(img, cv2.COLOR_BGR2RGB)\n",
    "    img = cv2.resize(img, (32, 32), interpolation = cv2.INTER_CUBIC)\n",
    "    img = (img - 128.) / 128\n",
    "    return img\n",
    "\n",
    "def predict_sign(image, y, accuracy_score = False):\n",
    "    sess = tf.get_default_session()\n",
    "    graph = tf.get_default_graph()\n",
    "    x_in = graph.get_tensor_by_name(\"x:0\")\n",
    "    y_in = graph.get_tensor_by_name(\"y:0\")\n",
    "    logits = graph.get_tensor_by_name(\"logits_op:0\")\n",
    "    yout = sess.run(logits, feed_dict = {x_in: np.array([image])})\n",
    "    ypred = sess.run(tf.nn.top_k(tf.nn.softmax(yout) , k = 1))\n",
    "    pred_class = ypred[1][0][0]\n",
    "    print(pred_class)\n",
    "    if accuracy_score == True:\n",
    "        acc = graph.get_tensor_by_name(\"accuracy_op:0\")\n",
    "        accuracy = sess.run(acc, feed_dict = {x_in: np.array([sample_image]), y_in: y})\n",
    "        print(accuracy)\n",
    "    with open('signnames.csv') as f:\n",
    "        reader = csv.DictReader(f)\n",
    "        for row in reader:\n",
    "            if np.int(row[\"ClassId\"]) == pred_class:\n",
    "                predicted_sign = row[\"SignName\"]\n",
    "                break\n",
    "    print(\"The predicted sign is:\", predicted_sign)\n",
    "    if accuracy_score:\n",
    "        return (accuracy)\n",
    "    \n",
    "#Here we predict the sign type for each of the images.\n",
    "num_images = 5\n",
    "y = np.array([14, 33, 4, 13, 27])\n",
    "with tf.Session() as sess:\n",
    "    saver = tf.train.import_meta_graph(save_filemeta)\n",
    "    saver.restore(sess, save_fileckpt)\n",
    "    for i in range(num_images):\n",
    "        path = ospath + ('image%d.jpeg' %(i+1))\n",
    "        load_plot(path)\n",
    "        sample_image = preprocess(path)\n",
    "        predict_sign(sample_image, y)"
   ]
  },
  {
   "cell_type": "markdown",
   "metadata": {},
   "source": [
    "### Analyze Performance"
   ]
  },
  {
   "cell_type": "code",
   "execution_count": null,
   "metadata": {
    "collapsed": true
   },
   "outputs": [],
   "source": [
    "### Calculate the accuracy for these 5 new images. \n",
    "### For example, if the model predicted 1 out of 5 signs correctly, it's 20% accurate on these new images.\n",
    "\n",
    "def get_accuracy(sample_image, y):\n",
    "    sess = tf.get_default_session()\n",
    "    graph = tf.get_default_graph()\n",
    "    x_in = graph.get_tensor_by_name(\"x:0\")\n",
    "    y_in = graph.get_tensor_by_name(\"y:0\")\n",
    "    logits = graph.get_tensor_by_name(\"logits_op:0\")\n",
    "    #oh = graph.get_tensor_by_name(\"one_hot_op:0\")\n",
    "    acc = graph.get_tensor_by_name(\"accuracy_op:0\")\n",
    "    log = sess.run(logits, feed_dict = {x_in: np.array([sample_image])})\n",
    "    print(log)\n",
    "    #one_hot = sess.run(oh, feed_dict = {x_in : np.array([sample_image]), y_in: y})\n",
    "    #cpred = tf.equal(tf.argmax(logits, 1), tf.argmax(one_hot, 1))\n",
    "    #print(sess.run(cpred))\n",
    "    accuracy = sess.run(acc, feed_dict = {x_in: np.array([sample_image]), y_in: y})\n",
    "    print(accuracy)\n",
    "    return accuracy\n",
    "total_acc = []\n",
    "y = np.array([14, 33, 4, 13, 27])\n",
    "with tf.Session() as sess:\n",
    "    saver = tf.train.import_meta_graph(save_filemeta)\n",
    "    sess = tf.get_default_session()\n",
    "    saver.restore(sess, save_fileckpt)\n",
    "    for i in range(5):\n",
    "        path = ospath + ('image%d.jpeg' %(i+1))\n",
    "        load_plot(path)\n",
    "        sample_image = preprocess(path)\n",
    "        print ([y[i]])\n",
    "        acc = get_accuracy(sample_image, [y[i]])\n",
    "        total_acc.append(acc)\n",
    "    \n",
    "    print(\"The total accuracy is: %.1f\" %(np.mean(total_acc)*100) + \"%\" )\n",
    "        \n",
    "    "
   ]
  },
  {
   "cell_type": "markdown",
   "metadata": {},
   "source": [
    "### Output Top 5 Softmax Probabilities For Each Image Found on the Web"
   ]
  },
  {
   "cell_type": "markdown",
   "metadata": {},
   "source": [
    "For each of the new images, print out the model's softmax probabilities to show the **certainty** of the model's predictions (limit the output to the top 5 probabilities for each image). [`tf.nn.top_k`](https://www.tensorflow.org/versions/r0.12/api_docs/python/nn.html#top_k) could prove helpful here. \n",
    "\n",
    "The example below demonstrates how tf.nn.top_k can be used to find the top k predictions for each image.\n",
    "\n",
    "`tf.nn.top_k` will return the values and indices (class ids) of the top k predictions. So if k=3, for each sign, it'll return the 3 largest probabilities (out of a possible 43) and the correspoding class ids.\n",
    "\n",
    "Take this numpy array as an example. The values in the array represent predictions. The array contains softmax probabilities for five candidate images with six possible classes. `tk.nn.top_k` is used to choose the three classes with the highest probability:\n",
    "\n",
    "```\n",
    "# (5, 6) array\n",
    "a = np.array([[ 0.24879643,  0.07032244,  0.12641572,  0.34763842,  0.07893497,\n",
    "         0.12789202],\n",
    "       [ 0.28086119,  0.27569815,  0.08594638,  0.0178669 ,  0.18063401,\n",
    "         0.15899337],\n",
    "       [ 0.26076848,  0.23664738,  0.08020603,  0.07001922,  0.1134371 ,\n",
    "         0.23892179],\n",
    "       [ 0.11943333,  0.29198961,  0.02605103,  0.26234032,  0.1351348 ,\n",
    "         0.16505091],\n",
    "       [ 0.09561176,  0.34396535,  0.0643941 ,  0.16240774,  0.24206137,\n",
    "         0.09155967]])\n",
    "```\n",
    "\n",
    "Running it through `sess.run(tf.nn.top_k(tf.constant(a), k=3))` produces:\n",
    "\n",
    "```\n",
    "TopKV2(values=array([[ 0.34763842,  0.24879643,  0.12789202],\n",
    "       [ 0.28086119,  0.27569815,  0.18063401],\n",
    "       [ 0.26076848,  0.23892179,  0.23664738],\n",
    "       [ 0.29198961,  0.26234032,  0.16505091],\n",
    "       [ 0.34396535,  0.24206137,  0.16240774]]), indices=array([[3, 0, 5],\n",
    "       [0, 1, 4],\n",
    "       [0, 5, 1],\n",
    "       [1, 3, 5],\n",
    "       [1, 4, 3]], dtype=int32))\n",
    "```\n",
    "\n",
    "Looking just at the first row we get `[ 0.34763842,  0.24879643,  0.12789202]`, you can confirm these are the 3 largest probabilities in `a`. You'll also notice `[3, 0, 5]` are the corresponding indices."
   ]
  },
  {
   "cell_type": "code",
   "execution_count": null,
   "metadata": {
    "collapsed": true
   },
   "outputs": [],
   "source": [
    "### Print out the top five softmax probabilities for the predictions on the German traffic sign images found on the web. \n",
    "### Feel free to use as many code cells as needed.\n",
    "import tensorflow as tf\n",
    "def softmax_prob(image, y):\n",
    "    sess = tf.get_default_session()\n",
    "    graph = tf.get_default_graph()\n",
    "    x_in = graph.get_tensor_by_name(\"x:0\")\n",
    "    y_in = graph.get_tensor_by_name(\"y:0\")\n",
    "    logits = graph.get_tensor_by_name(\"logits_op:0\")\n",
    "    yout = sess.run(logits, feed_dict = {x_in: np.array([image])})\n",
    "    ytop5 = sess.run(tf.nn.top_k(tf.nn.softmax(yout) , k = 5))\n",
    "    print(\"The top 5 probabilities are:\", ytop5[0][:])\n",
    "    print(\"The top 5 indices are:\", ytop5[1][:])\n",
    "with tf.Session() as sess:\n",
    "    saver = tf.train.import_meta_graph(save_filemeta)\n",
    "    sess = tf.get_default_session()\n",
    "    saver.restore(sess, save_fileckpt)\n",
    "    for i in range(5):\n",
    "        path = ospath + ('image%d.jpeg' %(i+1))\n",
    "        load_plot(path)\n",
    "        sample_image = preprocess(path)\n",
    "        softmax_prob(sample_image, [y[i]])\n",
    "    \n",
    "    "
   ]
  },
  {
   "cell_type": "markdown",
   "metadata": {},
   "source": [
    "### Project Writeup\n",
    "\n",
    "Once you have completed the code implementation, document your results in a project writeup using this [template](https://github.com/udacity/CarND-Traffic-Sign-Classifier-Project/blob/master/writeup_template.md) as a guide. The writeup can be in a markdown or pdf file. "
   ]
  },
  {
   "cell_type": "markdown",
   "metadata": {},
   "source": [
    "> **Note**: Once you have completed all of the code implementations and successfully answered each question above, you may finalize your work by exporting the iPython Notebook as an HTML document. You can do this by using the menu above and navigating to  \\n\",\n",
    "    \"**File -> Download as -> HTML (.html)**. Include the finished document along with this notebook as your submission."
   ]
  },
  {
   "cell_type": "markdown",
   "metadata": {},
   "source": [
    "---\n",
    "\n",
    "## Step 4 (Optional): Visualize the Neural Network's State with Test Images\n",
    "\n",
    " This Section is not required to complete but acts as an additional excersise for understanding the output of a neural network's weights. While neural networks can be a great learning device they are often referred to as a black box. We can understand what the weights of a neural network look like better by plotting their feature maps. After successfully training your neural network you can see what it's feature maps look like by plotting the output of the network's weight layers in response to a test stimuli image. From these plotted feature maps, it's possible to see what characteristics of an image the network finds interesting. For a sign, maybe the inner network feature maps react with high activation to the sign's boundary outline or to the contrast in the sign's painted symbol.\n",
    "\n",
    " Provided for you below is the function code that allows you to get the visualization output of any tensorflow weight layer you want. The inputs to the function should be a stimuli image, one used during training or a new one you provided, and then the tensorflow variable name that represents the layer's state during the training process, for instance if you wanted to see what the [LeNet lab's](https://classroom.udacity.com/nanodegrees/nd013/parts/fbf77062-5703-404e-b60c-95b78b2f3f9e/modules/6df7ae49-c61c-4bb2-a23e-6527e69209ec/lessons/601ae704-1035-4287-8b11-e2c2716217ad/concepts/d4aca031-508f-4e0b-b493-e7b706120f81) feature maps looked like for it's second convolutional layer you could enter conv2 as the tf_activation variable.\n",
    "\n",
    "For an example of what feature map outputs look like, check out NVIDIA's results in their paper [End-to-End Deep Learning for Self-Driving Cars](https://devblogs.nvidia.com/parallelforall/deep-learning-self-driving-cars/) in the section Visualization of internal CNN State. NVIDIA was able to show that their network's inner weights had high activations to road boundary lines by comparing feature maps from an image with a clear path to one without. Try experimenting with a similar test to show that your trained network's weights are looking for interesting features, whether it's looking at differences in feature maps from images with or without a sign, or even what feature maps look like in a trained network vs a completely untrained one on the same sign image.\n",
    "\n",
    "<figure>\n",
    " <img src=\"visualize_cnn.png\" width=\"380\" alt=\"Combined Image\" />\n",
    " <figcaption>\n",
    " <p></p> \n",
    " <p style=\"text-align: center;\"> Your output should look something like this (above)</p> \n",
    " </figcaption>\n",
    "</figure>\n",
    " <p></p> \n"
   ]
  },
  {
   "cell_type": "code",
   "execution_count": null,
   "metadata": {
    "collapsed": true
   },
   "outputs": [],
   "source": [
    "### Visualize your network's feature maps here.\n",
    "### Feel free to use as many code cells as needed.\n",
    "\n",
    "# image_input: the test image being fed into the network to produce the feature maps\n",
    "# tf_activation: should be a tf variable name used during your training procedure that represents the calculated state of a specific weight layer\n",
    "# activation_min/max: can be used to view the activation contrast in more detail, by default matplot sets min and max to the actual min and max values of the output\n",
    "# plt_num: used to plot out multiple different weight feature map sets on the same block, just extend the plt number for each new feature map entry\n",
    "\n",
    "def outputFeatureMap(path, layer, activation_min=-1, activation_max=-1 ,plt_num=1):\n",
    "    # Here make sure to preprocess your image_input in a way your network expects\n",
    "    # with size, normalization, ect if needed\n",
    "    # image_input =\n",
    "    # Note: x should be the same name as your network's tensorflow data placeholder variable\n",
    "    # If you get an error tf_activation is not defined it may be having trouble accessing the variable from inside a function\n",
    "    \n",
    "    \n",
    "    x_in = graph.get_tensor_by_name(\"x:0\")\n",
    "    \n",
    "    x = x_in\n",
    "    \n",
    "    image_input = preprocess(path)\n",
    "    #activation = tf_activation.eval(session=sess,feed_dict={x : image_input})\n",
    "    activation = sess.run(layer, feed_dict = {x:np.array([image_input])})\n",
    "    featuremaps = activation.shape[3]\n",
    "    plt.figure(plt_num, figsize=(15,15))\n",
    "    for featuremap in range(featuremaps):\n",
    "        plt.subplot(6,8, featuremap+1) # sets the number of feature maps to show on each row and column\n",
    "        plt.title('FeatureMap ' + str(featuremap)) # displays the feature map number\n",
    "        if activation_min != -1 & activation_max != -1:\n",
    "            plt.imshow(activation[0,:,:, featuremap], interpolation=\"nearest\", vmin =activation_min, vmax=activation_max, cmap=\"gray\")\n",
    "        elif activation_max != -1:\n",
    "            plt.imshow(activation[0,:,:, featuremap], interpolation=\"nearest\", vmax=activation_max, cmap=\"gray\")\n",
    "        elif activation_min !=-1:\n",
    "            plt.imshow(activation[0,:,:, featuremap], interpolation=\"nearest\", vmin=activation_min, cmap=\"gray\")\n",
    "        else:\n",
    "            plt.imshow(activation[0,:,:, featuremap], interpolation=\"nearest\", cmap=\"gray\")\n",
    "image = cv2.imread(ospath + 'image1.jpeg')\n",
    "graph = tf.get_default_graph()\n",
    "conv1_layer = graph.get_tensor_by_name(\"conv1_op:0\")\n",
    "conv2_layer = graph.get_tensor_by_name(\"conv2_op:0\")\n",
    "with tf.Session() as sess:\n",
    "    saver = tf.train.import_meta_graph(save_filemeta)\n",
    "    sess = tf.get_default_session()\n",
    "    saver.restore(sess, save_fileckpt)\n",
    "    outputFeatureMap(ospath + 'image1.jpeg', conv1_layer)"
   ]
  },
  {
   "cell_type": "code",
   "execution_count": null,
   "metadata": {
    "collapsed": true
   },
   "outputs": [],
   "source": []
  }
 ],
 "metadata": {
  "anaconda-cloud": {},
  "kernelspec": {
   "display_name": "Python 3",
   "language": "python",
   "name": "python3"
  },
  "language_info": {
   "codemirror_mode": {
    "name": "ipython",
    "version": 3
   },
   "file_extension": ".py",
   "mimetype": "text/x-python",
   "name": "python",
   "nbconvert_exporter": "python",
   "pygments_lexer": "ipython3",
   "version": "3.5.2"
  },
  "widgets": {
   "state": {},
   "version": "1.1.2"
  }
 },
 "nbformat": 4,
 "nbformat_minor": 1
}
