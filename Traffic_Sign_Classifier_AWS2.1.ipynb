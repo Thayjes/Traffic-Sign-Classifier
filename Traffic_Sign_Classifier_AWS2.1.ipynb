{
 "cells": [
  {
   "cell_type": "markdown",
   "metadata": {},
   "source": [
    "# Self-Driving Car Engineer Nanodegree\n",
    "\n",
    "## Deep Learning\n",
    "\n",
    "## Project: Build a Traffic Sign Recognition Classifier\n",
    "\n",
    "In this notebook, a template is provided for you to implement your functionality in stages, which is required to successfully complete this project. If additional code is required that cannot be included in the notebook, be sure that the Python code is successfully imported and included in your submission if necessary. \n",
    "\n",
    "> **Note**: Once you have completed all of the code implementations, you need to finalize your work by exporting the iPython Notebook as an HTML document. Before exporting the notebook to html, all of the code cells need to have been run so that reviewers can see the final implementation and output. You can then export the notebook by using the menu above and navigating to  \\n\",\n",
    "    \"**File -> Download as -> HTML (.html)**. Include the finished document along with this notebook as your submission. \n",
    "\n",
    "In addition to implementing code, there is a writeup to complete. The writeup should be completed in a separate file, which can be either a markdown file or a pdf document. There is a [write up template](https://github.com/udacity/CarND-Traffic-Sign-Classifier-Project/blob/master/writeup_template.md) that can be used to guide the writing process. Completing the code template and writeup template will cover all of the [rubric points](https://review.udacity.com/#!/rubrics/481/view) for this project.\n",
    "\n",
    "The [rubric](https://review.udacity.com/#!/rubrics/481/view) contains \"Stand Out Suggestions\" for enhancing the project beyond the minimum requirements. The stand out suggestions are optional. If you decide to pursue the \"stand out suggestions\", you can include the code in this Ipython notebook and also discuss the results in the writeup file.\n",
    "\n",
    "\n",
    ">**Note:** Code and Markdown cells can be executed using the **Shift + Enter** keyboard shortcut. In addition, Markdown cells can be edited by typically double-clicking the cell to enter edit mode."
   ]
  },
  {
   "cell_type": "markdown",
   "metadata": {},
   "source": [
    "---\n",
    "## Step 0: Load The Data"
   ]
  },
  {
   "cell_type": "code",
   "execution_count": 1,
   "metadata": {
    "scrolled": true
   },
   "outputs": [
    {
     "name": "stdout",
     "output_type": "stream",
     "text": [
      "34799\n"
     ]
    }
   ],
   "source": [
    "# Load pickled data\n",
    "import pickle\n",
    "\n",
    "# TODO: Fill this in based on where you saved the training and testing data\n",
    "\n",
    "training_file = 'C:/Users/lenovo/Documents/SDCND/traffic-signs-data/train.p'\n",
    "validation_file='C:/Users/lenovo/Documents/SDCND/traffic-signs-data/valid.p'\n",
    "testing_file = 'C:/Users/lenovo/Documents/SDCND/traffic-signs-data/test.p'\n",
    "\n",
    "with open(training_file, mode='rb') as f:\n",
    "    train = pickle.load(f)\n",
    "with open(validation_file, mode='rb') as f:\n",
    "    valid = pickle.load(f)\n",
    "with open(testing_file, mode='rb') as f:\n",
    "    test = pickle.load(f)\n",
    "    \n",
    "X_train, y_train = train['features'], train['labels']\n",
    "X_valid, y_valid = valid['features'], valid['labels']\n",
    "print(X_train.shape[0])\n",
    "X_test, y_test = test['features'], test['labels']"
   ]
  },
  {
   "cell_type": "markdown",
   "metadata": {},
   "source": [
    "---\n",
    "\n",
    "## Step 1: Dataset Summary & Exploration\n",
    "\n",
    "The pickled data is a dictionary with 4 key/value pairs:\n",
    "\n",
    "- `'features'` is a 4D array containing raw pixel data of the traffic sign images, (num examples, width, height, channels).\n",
    "- `'labels'` is a 1D array containing the label/class id of the traffic sign. The file `signnames.csv` contains id -> name mappings for each id.\n",
    "- `'sizes'` is a list containing tuples, (width, height) representing the original width and height the image.\n",
    "- `'coords'` is a list containing tuples, (x1, y1, x2, y2) representing coordinates of a bounding box around the sign in the image. **THESE COORDINATES ASSUME THE ORIGINAL IMAGE. THE PICKLED DATA CONTAINS RESIZED VERSIONS (32 by 32) OF THESE IMAGES**\n",
    "\n",
    "Complete the basic data summary below. Use python, numpy and/or pandas methods to calculate the data summary rather than hard coding the results. For example, the [pandas shape method](http://pandas.pydata.org/pandas-docs/stable/generated/pandas.DataFrame.shape.html) might be useful for calculating some of the summary results. "
   ]
  },
  {
   "cell_type": "markdown",
   "metadata": {},
   "source": [
    "### Provide a Basic Summary of the Data Set Using Python, Numpy and/or Pandas"
   ]
  },
  {
   "cell_type": "code",
   "execution_count": 2,
   "metadata": {},
   "outputs": [
    {
     "name": "stdout",
     "output_type": "stream",
     "text": [
      "Number of training examples = 34799\n",
      "Number of testing examples = 12630\n",
      "Image data shape = (32, 32, 3)\n",
      "Number of classes = 43\n"
     ]
    }
   ],
   "source": [
    "### Replace each question mark with the appropriate value. \n",
    "### Use python, pandas or numpy methods rather than hard coding the results\n",
    "import numpy as np\n",
    "# TODO: Number of training examples\n",
    "n_train = X_train.shape[0]\n",
    "\n",
    "# TODO: Number of validation examples\n",
    "n_validation = X_valid.shape[0]\n",
    "\n",
    "# TODO: Number of testing examples.\n",
    "n_test = X_test.shape[0]\n",
    "\n",
    "# TODO: What's the shape of an traffic sign image?\n",
    "image_shape = X_train.shape[1:]\n",
    "\n",
    "# TODO: How many unique classes/labels there are in the dataset.\n",
    "n_classes = len(np.unique(y_train))\n",
    "\n",
    "print(\"Number of training examples =\", n_train)\n",
    "print(\"Number of testing examples =\", n_test)\n",
    "print(\"Image data shape =\", image_shape)\n",
    "print(\"Number of classes =\", n_classes)"
   ]
  },
  {
   "cell_type": "markdown",
   "metadata": {},
   "source": [
    "### Include an exploratory visualization of the dataset"
   ]
  },
  {
   "cell_type": "markdown",
   "metadata": {},
   "source": [
    "Visualize the German Traffic Signs Dataset using the pickled file(s). This is open ended, suggestions include: plotting traffic sign images, plotting the count of each sign, etc. \n",
    "\n",
    "The [Matplotlib](http://matplotlib.org/) [examples](http://matplotlib.org/examples/index.html) and [gallery](http://matplotlib.org/gallery.html) pages are a great resource for doing visualizations in Python.\n",
    "\n",
    "**NOTE:** It's recommended you start with something simple first. If you wish to do more, come back to it after you've completed the rest of the sections. It can be interesting to look at the distribution of classes in the training, validation and test set. Is the distribution the same? Are there more examples of some classes than others?"
   ]
  },
  {
   "cell_type": "code",
   "execution_count": 3,
   "metadata": {},
   "outputs": [
    {
     "name": "stdout",
     "output_type": "stream",
     "text": [
      "2\n"
     ]
    },
    {
     "data": {
      "image/png": "[encoded data removed]",
      "text/plain": [
       "<matplotlib.figure.Figure at 0x4e59c579b0>"
      ]
     },
     "metadata": {},
     "output_type": "display_data"
    },
    {
     "name": "stdout",
     "output_type": "stream",
     "text": [
      "7\n"
     ]
    },
    {
     "data": {
      "image/png": "[encoded data removed]",
      "text/plain": [
       "<matplotlib.figure.Figure at 0x4e5b375b38>"
      ]
     },
     "metadata": {},
     "output_type": "display_data"
    },
    {
     "name": "stdout",
     "output_type": "stream",
     "text": [
      "3\n"
     ]
    },
    {
     "data": {
      "image/png": "[encoded data removed]",
      "text/plain": [
       "<matplotlib.figure.Figure at 0x4e5b42ef98>"
      ]
     },
     "metadata": {},
     "output_type": "display_data"
    },
    {
     "name": "stdout",
     "output_type": "stream",
     "text": [
      "0\n"
     ]
    },
    {
     "data": {
      "image/png": "[encoded data removed]",
      "text/plain": [
       "<matplotlib.figure.Figure at 0x4e5b719a20>"
      ]
     },
     "metadata": {},
     "output_type": "display_data"
    },
    {
     "name": "stdout",
     "output_type": "stream",
     "text": [
      "10\n"
     ]
    },
    {
     "data": {
      "image/png": "[encoded data removed]",
      "text/plain": [
       "<matplotlib.figure.Figure at 0x4e5b7bca20>"
      ]
     },
     "metadata": {},
     "output_type": "display_data"
    }
   ],
   "source": [
    "### Data exploration visualization code goes here.\n",
    "### Feel free to use as many code cells as needed.\n",
    "import matplotlib.pyplot as plt\n",
    "# Visualizations will be shown in the notebook.\n",
    "%matplotlib inline\n",
    "# Let us plot a few traffic sign images, just to see what our data looks like.\n",
    "numbers = np.random.randint(0, X_train.shape[0], 5)\n",
    "for i in numbers:\n",
    "    print (y_train[i])\n",
    "    plt.imshow(X_train[i].squeeze()), plt.show()\n"
   ]
  },
  {
   "cell_type": "code",
   "execution_count": 4,
   "metadata": {},
   "outputs": [
    {
     "data": {
      "image/png": "[encoded data removed]",
      "text/plain": [
       "<matplotlib.figure.Figure at 0x4e5b82fc88>"
      ]
     },
     "metadata": {},
     "output_type": "display_data"
    }
   ],
   "source": [
    "# Let us plot a histogram of the classes for the train, test and validation datasets.\n",
    "fig, (ax0, ax1, ax2) = plt.subplots(3, sharex = True, sharey = True)\n",
    "n_bins = 43\n",
    "colors = ['red', 'green', 'blue']\n",
    "ax0.hist(y_train, n_bins, histtype = 'bar', color = colors[0], normed = \"True\")\n",
    "ax0.set_title(\"Histogram of Training Data\")\n",
    "ax1.hist(y_valid, n_bins, color = colors[1], normed = \"True\")\n",
    "ax1.set_title(\"Histogram of Validation Data\"), ax1.set_ylabel(\"Number of Samples\")\n",
    "ax2.hist(y_test, n_bins, color = colors[2], normed = \"True\")\n",
    "ax2.set_title(\"Histogram of Testing Data\"), ax2.set_xlabel(\"Classes\")\n",
    "fig.subplots_adjust(hspace = 1)\n",
    "plt.show()\n",
    "# We can observe that the distribution of classes in the three datasets is very similar.\n",
    "# But there is some unequal distribution of classes in each dataset."
   ]
  },
  {
   "cell_type": "markdown",
   "metadata": {},
   "source": [
    "----\n",
    "\n",
    "## Step 2: Design and Test a Model Architecture\n",
    "\n",
    "Design and implement a deep learning model that learns to recognize traffic signs. Train and test your model on the [German Traffic Sign Dataset](http://benchmark.ini.rub.de/?section=gtsrb&subsection=dataset).\n",
    "\n",
    "The LeNet-5 implementation shown in the [classroom](https://classroom.udacity.com/nanodegrees/nd013/parts/fbf77062-5703-404e-b60c-95b78b2f3f9e/modules/6df7ae49-c61c-4bb2-a23e-6527e69209ec/lessons/601ae704-1035-4287-8b11-e2c2716217ad/concepts/d4aca031-508f-4e0b-b493-e7b706120f81) at the end of the CNN lesson is a solid starting point. You'll have to change the number of classes and possibly the preprocessing, but aside from that it's plug and play! \n",
    "\n",
    "With the LeNet-5 solution from the lecture, you should expect a validation set accuracy of about 0.89. To meet specifications, the validation set accuracy will need to be at least 0.93. It is possible to get an even higher accuracy, but 0.93 is the minimum for a successful project submission. \n",
    "\n",
    "There are various aspects to consider when thinking about this problem:\n",
    "\n",
    "- Neural network architecture (is the network over or underfitting?)\n",
    "- Play around preprocessing techniques (normalization, rgb to grayscale, etc)\n",
    "- Number of examples per label (some have more than others).\n",
    "- Generate fake data.\n",
    "\n",
    "Here is an example of a [published baseline model on this problem](http://yann.lecun.com/exdb/publis/pdf/sermanet-ijcnn-11.pdf). It's not required to be familiar with the approach used in the paper but, it's good practice to try to read papers like these."
   ]
  },
  {
   "cell_type": "markdown",
   "metadata": {},
   "source": [
    "### Pre-process the Data Set (normalization, grayscale, etc.)"
   ]
  },
  {
   "cell_type": "markdown",
   "metadata": {},
   "source": [
    "Minimally, the image data should be normalized so that the data has mean zero and equal variance. For image data, `(pixel - 128)/ 128` is a quick way to approximately normalize the data and can be used in this project. \n",
    "\n",
    "Other pre-processing steps are optional. You can try different techniques to see if it improves performance. \n",
    "\n",
    "Use the code cell (or multiple code cells, if necessary) to implement the first step of your project."
   ]
  },
  {
   "cell_type": "code",
   "execution_count": 5,
   "metadata": {
    "collapsed": true
   },
   "outputs": [],
   "source": [
    "### Preprocess the data here. It is required to normalize the data. Other preprocessing steps could include \n",
    "### converting to grayscale, etc.\n",
    "### Feel free to use as many code cells as needed.\n",
    "from sklearn.utils import shuffle\n",
    "from sklearn import preprocessing\n",
    "from skimage.transform import warp, AffineTransform\n",
    "#X_train, y_train = shuffle(X_train, y_train)\n",
    "### Preprocess the data here. It is required to normalize the data. Other preprocessing steps could include \n",
    "### converting to grayscale, etc.\n",
    "### Feel free to use as many code cells as needed.\n"
   ]
  },
  {
   "cell_type": "code",
   "execution_count": 6,
   "metadata": {},
   "outputs": [
    {
     "data": {
      "image/png": "[encoded data removed]",
      "text/plain": [
       "<matplotlib.figure.Figure at 0x4e5c9cc1d0>"
      ]
     },
     "metadata": {},
     "output_type": "display_data"
    },
    {
     "data": {
      "image/png": "[encoded data removed]",
      "text/plain": [
       "<matplotlib.figure.Figure at 0x4e5d1251d0>"
      ]
     },
     "metadata": {},
     "output_type": "display_data"
    },
    {
     "data": {
      "text/plain": [
       "<matplotlib.image.AxesImage at 0x4e5d27a390>"
      ]
     },
     "execution_count": 6,
     "metadata": {},
     "output_type": "execute_result"
    },
    {
     "data": {
      "image/png": "[encoded data removed]",
      "text/plain": [
       "<matplotlib.figure.Figure at 0x4e5b95edd8>"
      ]
     },
     "metadata": {},
     "output_type": "display_data"
    }
   ],
   "source": [
    "# Testing data augmentation\n",
    "import cv2\n",
    "# Just an example\n",
    "image = X_train[0,:,:,:]\n",
    "plt.imshow(image, cmap = 'gray'), plt.show()\n",
    "image = cv2.cvtColor(image, cv2.COLOR_RGB2GRAY)\n",
    "plt.imshow(image, cmap = 'gray'), plt.show()\n",
    "tform = AffineTransform(scale = (0.9, 0.9), translation = (-1, -1), rotation = np.deg2rad(-5))\n",
    "plt.imshow(warp(image, tform), cmap = 'gray')"
   ]
  },
  {
   "cell_type": "code",
   "execution_count": 7,
   "metadata": {},
   "outputs": [
    {
     "name": "stdout",
     "output_type": "stream",
     "text": [
      "(32, 32, 3)\n",
      "(34800, 32, 32, 3)\n"
     ]
    },
    {
     "data": {
      "text/plain": [
       "<matplotlib.image.AxesImage at 0x4e5d314240>"
      ]
     },
     "execution_count": 7,
     "metadata": {},
     "output_type": "execute_result"
    },
    {
     "data": {
      "image/png": "[encoded data removed]",
      "text/plain": [
       "<matplotlib.figure.Figure at 0x4e5c67d470>"
      ]
     },
     "metadata": {},
     "output_type": "display_data"
    }
   ],
   "source": [
    "# This is how we can append the transformed image to the training set\n",
    "a = np.array([ 255*np.ones( (32, 32, 3) ) ])\n",
    "print(a[0,:,:,:].shape)\n",
    "X_temp = X_train\n",
    "X_temp = np.append(X_temp, a, axis = 0)\n",
    "print(X_temp.shape)\n",
    "plt.imshow(X_temp[34799,:,:,:])"
   ]
  },
  {
   "cell_type": "code",
   "execution_count": 8,
   "metadata": {},
   "outputs": [
    {
     "name": "stdout",
     "output_type": "stream",
     "text": [
      "(34799,)\n",
      "41\n"
     ]
    }
   ],
   "source": [
    "print(y_train.shape)\n",
    "y_temp = y_train\n",
    "y_temp = np.append(y_temp, y_train[0])\n",
    "print(y_temp[0])"
   ]
  },
  {
   "cell_type": "code",
   "execution_count": 9,
   "metadata": {
    "collapsed": true
   },
   "outputs": [],
   "source": [
    "# Now lets do it for all images, first create a temporary variable\n",
    "# X_train_augmented = X_train\n",
    "# y_train_augmented = y_train\n",
    "# for i in range(len(X_train)):\n",
    "#     image = X_train[i,:,:,:]\n",
    "#     # Sample values from uniform distribution within the range specified\n",
    "#     translation = np.random.uniform(-2, 2, (1, 2))\n",
    "#     rotation = np.random.uniform(-15, 15, 1)\n",
    "#     scale = np.random.uniform(0.9, 1.1, (1, 2))\n",
    "#     tform = AffineTransform(scale = scale, translation = translation, rotation = np.deg2rad(rotation))\n",
    "#     image_append = np.array([warp(image, tform)])\n",
    "#     X_train_augmented = np.append(X_train_augmented, image_append, axis = 0)\n",
    "#     y_train_augmented = np.append(y_train_augmented, y_train[i])\n",
    "    \n",
    "    "
   ]
  },
  {
   "cell_type": "code",
   "execution_count": 10,
   "metadata": {
    "collapsed": true
   },
   "outputs": [],
   "source": [
    "# Use the mean, max and min from the training set to normalize all other sets!\n",
    "X_train = (X_train - 128.) / 128\n",
    "X_valid = (X_valid - 128.) / 128\n",
    "X_test = (X_test - 128.) / 128"
   ]
  },
  {
   "cell_type": "markdown",
   "metadata": {},
   "source": [
    "### Model Architecture"
   ]
  },
  {
   "cell_type": "code",
   "execution_count": 12,
   "metadata": {},
   "outputs": [],
   "source": [
    "import tensorflow as tf\n",
    "from tensorflow.contrib.layers import flatten\n",
    "def weight_variable(shape, mean, sigma, name):\n",
    "    return tf.Variable(tf.random_normal(shape, mean, sigma), name = name)\n",
    "def weight_variable_xglorot(shape, mean, std):\n",
    "    (fan_in, fan_out) = shape[-2:]\n",
    "    initial = np.random.randn(*shape) / np.sqrt(fan_in / 2.)\n",
    "    return tf.Variable(initial, dtype = tf.float32)\n",
    "def bias_variable(shape, name):\n",
    "    # create bias variable given 1-D shape of fan_out\n",
    "    return tf.Variable(tf.constant(0.1, shape = shape), dtype = tf.float32, name = name)\n",
    "def dropout(layer, keep_prob):\n",
    "    return tf.nn.dropout(layer, keep_prob)   \n",
    "\n",
    "# L1 through Lout define the depth of each of the layers.\n",
    "# Named variables and placeholders so the names can be used when the saved session is restored. \n",
    "# Named certain operations as well for the same reason\n",
    "rate = 1e-3\n",
    "mu = 0\n",
    "sigma = 0.1\n",
    "L1 = 6\n",
    "L2 = 16\n",
    "L3 = 120\n",
    "L4 = 84\n",
    "Lout = 43\n",
    "KEEP_PROB = 1.0\n",
    "\n",
    "x = tf.placeholder(tf.float32, (None, 32, 32, 3), name = \"x\")\n",
    "y = tf.placeholder(tf.int32, (None), name = \"y\")\n",
    "    \n",
    "# SOLUTION: Layer 1: Convolutional. Input = 32x32x3. Output = 28x28xL1.\n",
    "conv1_W = weight_variable((5, 5, 3, L1), mu, sigma, \"conv1_W\")\n",
    "conv1_b = bias_variable([L1], \"conv1_b\")\n",
    "conv1   = tf.nn.conv2d(x, conv1_W, strides=[1, 1, 1, 1], padding='VALID') + conv1_b\n",
    "\n",
    "# SOLUTION: Activation.\n",
    "conv1 = tf.nn.relu(conv1)\n",
    "\n",
    "# SOLUTION: Pooling. Input = 28x28xL1. Output = 14x14xL1.\n",
    "conv1 = tf.nn.max_pool(conv1, ksize=[1, 2, 2, 1], strides=[1, 2, 2, 1], padding='VALID')\n",
    "\n",
    "# SOLUTION: Layer 2: Convolutional. Output = 10x10x16.\n",
    "#conv2_W = tf.Variable(tf.random_uniform(shape=(5, 5, 6, 16), minval=-2.45/np.sqrt(5*5*6*16), maxval=+2.45/np.sqrt(5*5*6*16)))\n",
    "conv2_W = weight_variable((5, 5, L1, L2), mu, sigma, \"conv2_W\")\n",
    "conv2_b = bias_variable([L2], \"conv2_b\")\n",
    "conv2   = tf.nn.conv2d(conv1, conv2_W, strides=[1, 1, 1, 1], padding='VALID') + conv2_b\n",
    "    \n",
    "# SOLUTION: Activation.\n",
    "conv2 = tf.nn.relu(conv2)\n",
    "\n",
    "# SOLUTION: Pooling. Input = 10x10xL2. Output = 5x5xL2.\n",
    "conv2 = tf.nn.max_pool(conv2, ksize=[1, 2, 2, 1], strides=[1, 2, 2, 1], padding='VALID')\n",
    "\n",
    "# SOLUTION: Flatten. Input = 5x5xL2. Output = 5*5*L2.\n",
    "fc0   = flatten(conv2)\n",
    "    \n",
    "# SOLUTION: Layer 3: Fully Connected. Input = 5*5*L2. Output = L3.\n",
    "#fc1_W = tf.Variable(tf.random_uniform(shape=(400, 120), minval=-2.45/np.sqrt(400*120), maxval=2.45/np.sqrt(400*120)))\n",
    "fc1_W = weight_variable((5*5*L2, L3), mu, sigma, \"fc1_W\")\n",
    "fc1_b = bias_variable([L3], \"fc1_b\")\n",
    "fc1   = tf.matmul(fc0, fc1_W) + fc1_b\n",
    "    \n",
    "# SOLUTION: Activation.\n",
    "fc1    = tf.nn.relu(fc1)\n",
    "\n",
    "# SOLUTION: Layer 4: Fully Connected. Input = L3. Output = L4.\n",
    "#fc2_W  = tf.Variable(tf.random_uniform(shape=(120, 84), minval=-2.45/np.sqrt(400*120), maxval = 2.45/np.sqrt(400*120)))\n",
    "fc2_W = weight_variable((L3, L4), mu, sigma, \"fc2_W\")\n",
    "fc2_b  = bias_variable([L4], \"fc2_b\")\n",
    "fc2    = tf.matmul(fc1, fc2_W) + fc2_b\n",
    "    \n",
    "# SOLUTION: Activation.\n",
    "fc2    = tf.nn.relu(fc2)\n",
    "fc2 = dropout(fc2, 1.0)\n",
    "\n",
    "# SOLUTION: Layer 5: Fully Connected. Input = L4. Output = Lout.\n",
    "fc3_W = weight_variable((L4, Lout), mu, sigma, \"fc3_W\")\n",
    "fc3_b  = bias_variable([Lout], \"fc3_b\")\n",
    "logits = tf.add(tf.matmul(fc2, fc3_W), fc3_b, name = \"logits_op\")\n",
    "\n",
    "# We rescale the logits tensor as softmax involves taking e^logits and this may become too large if the logits are big.\n",
    "# This is actually done implicitly within the softmax cross entropy function.\n",
    "logits_rescaled = tf.transpose(tf.subtract(tf.transpose(logits), tf.reduce_max(logits, axis = 1)))\n",
    "\n",
    "one_hot_y = tf.one_hot(y, Lout, name = \"one_hot_op\")\n",
    "cross_entropy = tf.nn.softmax_cross_entropy_with_logits(labels=one_hot_y, logits=logits, name = \"cross_entropy_op\")\n",
    "loss_operation = tf.reduce_mean(cross_entropy, name = \"loss_op\")\n",
    "optimizer = tf.train.AdamOptimizer(learning_rate = rate, name = \"optimizer_op\")\n",
    "training_operation = optimizer.minimize(loss_operation)\n",
    "correct_prediction = tf.equal(tf.argmax(logits, 1), tf.argmax(one_hot_y, 1), name = \"correct_pred_op\")\n",
    "accuracy_operation = tf.reduce_mean(tf.cast(correct_prediction, tf.float32), name = \"accuracy_op\")"
   ]
  },
  {
   "cell_type": "markdown",
   "metadata": {},
   "source": [
    "### Train, Validate and Test the Model"
   ]
  },
  {
   "cell_type": "markdown",
   "metadata": {},
   "source": [
    "A validation set can be used to assess how well the model is performing. A low accuracy on the training and validation\n",
    "sets imply underfitting. A high accuracy on the training set but low accuracy on the validation set implies overfitting."
   ]
  },
  {
   "cell_type": "code",
   "execution_count": 13,
   "metadata": {
    "collapsed": true
   },
   "outputs": [],
   "source": [
    "### Train your model here.\n",
    "### Calculate and report the accuracy on the training and validation set.\n",
    "### Once a final model architecture is selected, \n",
    "### the accuracy on the test set should be calculated and reported as well.\n",
    "### Feel free to use as many code cells as needed.\n",
    "saver = tf.train.Saver()\n",
    "\n",
    "def evaluate(X_data, y_data):\n",
    "    num_examples = len(X_data)\n",
    "    total_accuracy = 0\n",
    "    sess = tf.get_default_session()\n",
    "    for offset in range(0, num_examples, BATCH_SIZE):\n",
    "        batch_x, batch_y = X_data[offset:offset+BATCH_SIZE], y_data[offset:offset+BATCH_SIZE]\n",
    "        accuracy = sess.run(accuracy_operation, feed_dict={x: batch_x, y: batch_y})\n",
    "        total_accuracy += (accuracy * len(batch_x))\n",
    "    return total_accuracy / num_examples\n"
   ]
  },
  {
   "cell_type": "code",
   "execution_count": 14,
   "metadata": {},
   "outputs": [
    {
     "name": "stdout",
     "output_type": "stream",
     "text": [
      "Training...\n",
      "EPOCH 1 ...\n",
      "Average Training Cost =  1.42254035521\n",
      "Validation Accuracy = 0.757\n",
      "Training Accuracy = 0.864\n",
      "\n",
      "Model saved\n"
     ]
    },
    {
     "data": {
      "image/png": "[encoded data removed]",
      "text/plain": [
       "<matplotlib.figure.Figure at 0x4e69d639b0>"
      ]
     },
     "metadata": {},
     "output_type": "display_data"
    }
   ],
   "source": [
    "EPOCHS = 1\n",
    "BATCH_SIZE = 128\n",
    "development = False\n",
    "tc = []\n",
    "vc = []\n",
    "epochs = []\n",
    "with tf.Session() as sess:\n",
    "    sess.run(tf.global_variables_initializer())\n",
    "    if development == True:\n",
    "        num_examples = 128\n",
    "    else:\n",
    "        num_examples = len(X_train)\n",
    "    num_batches = np.int(num_examples / BATCH_SIZE)\n",
    "    \n",
    "    print(\"Training...\")\n",
    "    for i in range(EPOCHS):\n",
    "        avg_train_cost = 0\n",
    "        avg_valid_cost = 0\n",
    "        X_train, y_train = shuffle(X_train, y_train)\n",
    "        for offset in range(0, num_examples, BATCH_SIZE):\n",
    "            end = offset + BATCH_SIZE\n",
    "            batch_x, batch_y = X_train[offset:end], y_train[offset:end]\n",
    "            \n",
    "            sess.run([training_operation], feed_dict={x: batch_x, y: batch_y})\n",
    "            #print(sess.run(conv1_W))\n",
    "            train_cost = sess.run(loss_operation, feed_dict={x:batch_x, y:batch_y})            \n",
    "            avg_train_cost += train_cost/ (num_batches)\n",
    "            \n",
    "        #valid_cost = sess.run(loss_operation, feed_dict={x:X_valid, y:y_valid})    \n",
    "        epochs.append(i+1)\n",
    "        tc.append(avg_train_cost)\n",
    "        #vc.append(valid_cost)\n",
    "        validation_accuracy = evaluate(X_valid, y_valid)\n",
    "        training_accuracy = evaluate(X_train[:(num_examples)], y_train[:(num_examples)])\n",
    "        print(\"EPOCH {} ...\".format(i+1))        \n",
    "        print(\"Average Training Cost = \", avg_train_cost)\n",
    "        #print(\"Validation Cost = \", valid_cost)\n",
    "        print(\"Validation Accuracy = {:.3f}\".format(validation_accuracy))\n",
    "        print(\"Training Accuracy = {:.3f}\".format(training_accuracy))\n",
    "        print()\n",
    "    plt.plot(epochs, tc, 'r-x')#, plt.plot(epochs, vc, 'b-x'), plt.show()   \n",
    "    saver.save(sess, './lenet.ckpt')\n",
    "    print(\"Model saved\")"
   ]
  },
  {
   "cell_type": "code",
   "execution_count": 19,
   "metadata": {},
   "outputs": [
    {
     "name": "stdout",
     "output_type": "stream",
     "text": [
      "INFO:tensorflow:Restoring parameters from ./lenet.ckpt\n",
      "[[  9.84001637e-01  -2.83480734e-01   3.05033684e-01   2.72358000e-01\n",
      "   -1.63651764e+00  -3.82885039e-01  -2.04515743e+00   8.66813600e-01\n",
      "    8.15775216e-01  -1.65198445e-01  -8.34673867e-02  -6.38626099e-01\n",
      "   -1.17681706e+00   2.64261293e+00  -5.33379257e-01   1.49320590e+00\n",
      "   -6.44078031e-02  -7.50509083e-01  -1.18382347e+00   1.19304132e+00\n",
      "    5.05827785e-01   4.90709059e-02  -9.85809207e-01  -1.11505389e-04\n",
      "   -2.26194835e+00   1.12852561e+00   2.82107621e-01   2.79115796e-01\n",
      "    1.36149120e+00   2.53620952e-01   3.09902966e-01  -1.26058125e+00\n",
      "    1.25169075e+00  -1.79933250e-01   7.33278692e-01   1.10255077e-01\n",
      "    1.55664951e-01   1.10650587e+00   9.75253761e-01  -3.67368162e-01\n",
      "    2.77999490e-01  -2.26034880e-01  -6.55567229e-01]]\n",
      "TopKV2(values=array([[ 0.19268797,  0.06104829,  0.05351438,  0.04794957,  0.04521824]], dtype=float32), indices=array([[13, 15, 28, 32, 19]]))\n"
     ]
    }
   ],
   "source": [
    "#Create a cell to load the saved graph. Use this to load placeholders and operations.\n",
    "import cv2\n",
    "def preprocess(path):\n",
    "    img = cv2.imread(path)\n",
    "    img = cv2.resize(img, (32, 32), interpolation = cv2.INTER_CUBIC)\n",
    "    img = (img - 128.) / 128\n",
    "    return img\n",
    "def load_plot(path):\n",
    "    img = cv2.imread(path)\n",
    "    plt.imshow(img, cmap = 'gray'), plt.show()\n",
    "def predict(img):\n",
    "    \n",
    "    \n",
    "\n",
    "sample_image = preprocess('C:/Users/lenovo/Documents/SDCND/Traffic-Sign-Classifier1/image3.jpeg')\n",
    "#print(sample_image.shape)\n",
    "#print(np.array([sample_image]).shape)\n",
    "\n",
    "import tensorflow as tf\n",
    "with tf.Session() as sess:\n",
    "    saver = tf.train.import_meta_graph('./lenet.ckpt.meta')\n",
    "    saver.restore(sess, \"./lenet.ckpt\")\n",
    "    graph = tf.get_default_graph()\n",
    "    x_in = graph.get_tensor_by_name(\"x:0\")\n",
    "    y_in = graph.get_tensor_by_name(\"y:0\")\n",
    "    logits = graph.get_tensor_by_name(\"logits_op:0\")\n",
    "    yout = sess.run(logits, feed_dict = {x_in: np.array([sample_image])})\n",
    "    ytop5 = tf.nn.top_k(tf.nn.softmax(yout), k = 5)\n",
    "    print(yout)\n",
    "    print(sess.run(ytop5))\n",
    "    \n",
    "# for op in tf.get_default_graph().get_operations():\n",
    "#     print (str(op.name))"
   ]
  },
  {
   "cell_type": "code",
   "execution_count": 12,
   "metadata": {},
   "outputs": [
    {
     "data": {
      "text/plain": [
       "[<tf.Variable 'Variable:0' shape=(5, 5, 3, 6) dtype=float32_ref>,\n",
       " <tf.Variable 'Variable_1:0' shape=(6,) dtype=float32_ref>,\n",
       " <tf.Variable 'Variable_2:0' shape=(5, 5, 6, 16) dtype=float32_ref>,\n",
       " <tf.Variable 'Variable_3:0' shape=(16,) dtype=float32_ref>,\n",
       " <tf.Variable 'Variable_4:0' shape=(400, 120) dtype=float32_ref>,\n",
       " <tf.Variable 'Variable_5:0' shape=(120,) dtype=float32_ref>,\n",
       " <tf.Variable 'Variable_6:0' shape=(120, 84) dtype=float32_ref>,\n",
       " <tf.Variable 'Variable_7:0' shape=(84,) dtype=float32_ref>,\n",
       " <tf.Variable 'Variable_8:0' shape=(84, 43) dtype=float32_ref>,\n",
       " <tf.Variable 'Variable_9:0' shape=(43,) dtype=float32_ref>,\n",
       " <tf.Variable 'Variable_10:0' shape=(5, 5, 3, 6) dtype=float32_ref>,\n",
       " <tf.Variable 'Variable_11:0' shape=(6,) dtype=float32_ref>,\n",
       " <tf.Variable 'Variable_12:0' shape=(5, 5, 6, 16) dtype=float32_ref>,\n",
       " <tf.Variable 'Variable_13:0' shape=(16,) dtype=float32_ref>,\n",
       " <tf.Variable 'Variable_14:0' shape=(400, 120) dtype=float32_ref>,\n",
       " <tf.Variable 'Variable_15:0' shape=(120,) dtype=float32_ref>,\n",
       " <tf.Variable 'Variable_16:0' shape=(120, 84) dtype=float32_ref>,\n",
       " <tf.Variable 'Variable_17:0' shape=(84,) dtype=float32_ref>,\n",
       " <tf.Variable 'Variable_18:0' shape=(84, 43) dtype=float32_ref>,\n",
       " <tf.Variable 'Variable_19:0' shape=(43,) dtype=float32_ref>,\n",
       " <tf.Variable 'Variable_20:0' shape=(5, 5, 3, 32) dtype=float32_ref>,\n",
       " <tf.Variable 'Variable_21:0' shape=(32,) dtype=float32_ref>,\n",
       " <tf.Variable 'Variable_22:0' shape=(5, 5, 32, 64) dtype=float32_ref>,\n",
       " <tf.Variable 'Variable_23:0' shape=(64,) dtype=float32_ref>,\n",
       " <tf.Variable 'Variable_24:0' shape=(1600, 1024) dtype=float32_ref>,\n",
       " <tf.Variable 'Variable_25:0' shape=(1024,) dtype=float32_ref>,\n",
       " <tf.Variable 'Variable_26:0' shape=(1024, 128) dtype=float32_ref>,\n",
       " <tf.Variable 'Variable_27:0' shape=(128,) dtype=float32_ref>,\n",
       " <tf.Variable 'Variable_28:0' shape=(128, 43) dtype=float32_ref>,\n",
       " <tf.Variable 'Variable_29:0' shape=(43,) dtype=float32_ref>,\n",
       " <tf.Variable 'Variable_30:0' shape=(5, 5, 3, 6) dtype=float32_ref>,\n",
       " <tf.Variable 'Variable_31:0' shape=(6,) dtype=float32_ref>,\n",
       " <tf.Variable 'Variable_32:0' shape=(5, 5, 6, 16) dtype=float32_ref>,\n",
       " <tf.Variable 'Variable_33:0' shape=(16,) dtype=float32_ref>,\n",
       " <tf.Variable 'Variable_34:0' shape=(400, 120) dtype=float32_ref>,\n",
       " <tf.Variable 'Variable_35:0' shape=(120,) dtype=float32_ref>,\n",
       " <tf.Variable 'Variable_36:0' shape=(120, 84) dtype=float32_ref>,\n",
       " <tf.Variable 'Variable_37:0' shape=(84,) dtype=float32_ref>,\n",
       " <tf.Variable 'Variable_38:0' shape=(84, 43) dtype=float32_ref>,\n",
       " <tf.Variable 'Variable_39:0' shape=(43,) dtype=float32_ref>,\n",
       " <tf.Variable 'Variable_40:0' shape=(5, 5, 3, 6) dtype=float32_ref>,\n",
       " <tf.Variable 'Variable_41:0' shape=(6,) dtype=float32_ref>,\n",
       " <tf.Variable 'Variable_42:0' shape=(5, 5, 6, 16) dtype=float32_ref>,\n",
       " <tf.Variable 'Variable_43:0' shape=(16,) dtype=float32_ref>,\n",
       " <tf.Variable 'Variable_44:0' shape=(400, 120) dtype=float32_ref>,\n",
       " <tf.Variable 'Variable_45:0' shape=(120,) dtype=float32_ref>,\n",
       " <tf.Variable 'Variable_46:0' shape=(120, 84) dtype=float32_ref>,\n",
       " <tf.Variable 'Variable_47:0' shape=(84,) dtype=float32_ref>,\n",
       " <tf.Variable 'Variable_48:0' shape=(84, 43) dtype=float32_ref>,\n",
       " <tf.Variable 'Variable_49:0' shape=(43,) dtype=float32_ref>,\n",
       " <tf.Variable 'Variable:0' shape=(5, 5, 3, 6) dtype=float32_ref>,\n",
       " <tf.Variable 'Variable_1:0' shape=(6,) dtype=float32_ref>,\n",
       " <tf.Variable 'Variable_2:0' shape=(5, 5, 6, 16) dtype=float32_ref>,\n",
       " <tf.Variable 'Variable_3:0' shape=(16,) dtype=float32_ref>,\n",
       " <tf.Variable 'Variable_4:0' shape=(400, 120) dtype=float32_ref>,\n",
       " <tf.Variable 'Variable_5:0' shape=(120,) dtype=float32_ref>,\n",
       " <tf.Variable 'Variable_6:0' shape=(120, 84) dtype=float32_ref>,\n",
       " <tf.Variable 'Variable_7:0' shape=(84,) dtype=float32_ref>,\n",
       " <tf.Variable 'Variable_8:0' shape=(84, 43) dtype=float32_ref>,\n",
       " <tf.Variable 'Variable_9:0' shape=(43,) dtype=float32_ref>,\n",
       " <tf.Variable 'Variable_10:0' shape=(5, 5, 3, 6) dtype=float32_ref>,\n",
       " <tf.Variable 'Variable_11:0' shape=(6,) dtype=float32_ref>,\n",
       " <tf.Variable 'Variable_12:0' shape=(5, 5, 6, 16) dtype=float32_ref>,\n",
       " <tf.Variable 'Variable_13:0' shape=(16,) dtype=float32_ref>,\n",
       " <tf.Variable 'Variable_14:0' shape=(400, 120) dtype=float32_ref>,\n",
       " <tf.Variable 'Variable_15:0' shape=(120,) dtype=float32_ref>,\n",
       " <tf.Variable 'Variable_16:0' shape=(120, 84) dtype=float32_ref>,\n",
       " <tf.Variable 'Variable_17:0' shape=(84,) dtype=float32_ref>,\n",
       " <tf.Variable 'Variable_18:0' shape=(84, 43) dtype=float32_ref>,\n",
       " <tf.Variable 'Variable_19:0' shape=(43,) dtype=float32_ref>,\n",
       " <tf.Variable 'Variable_20:0' shape=(5, 5, 3, 32) dtype=float32_ref>,\n",
       " <tf.Variable 'Variable_21:0' shape=(32,) dtype=float32_ref>,\n",
       " <tf.Variable 'Variable_22:0' shape=(5, 5, 32, 64) dtype=float32_ref>,\n",
       " <tf.Variable 'Variable_23:0' shape=(64,) dtype=float32_ref>,\n",
       " <tf.Variable 'Variable_24:0' shape=(1600, 1024) dtype=float32_ref>,\n",
       " <tf.Variable 'Variable_25:0' shape=(1024,) dtype=float32_ref>,\n",
       " <tf.Variable 'Variable_26:0' shape=(1024, 128) dtype=float32_ref>,\n",
       " <tf.Variable 'Variable_27:0' shape=(128,) dtype=float32_ref>,\n",
       " <tf.Variable 'Variable_28:0' shape=(128, 43) dtype=float32_ref>,\n",
       " <tf.Variable 'Variable_29:0' shape=(43,) dtype=float32_ref>,\n",
       " <tf.Variable 'Variable_30:0' shape=(5, 5, 3, 6) dtype=float32_ref>,\n",
       " <tf.Variable 'Variable_31:0' shape=(6,) dtype=float32_ref>,\n",
       " <tf.Variable 'Variable_32:0' shape=(5, 5, 6, 16) dtype=float32_ref>,\n",
       " <tf.Variable 'Variable_33:0' shape=(16,) dtype=float32_ref>,\n",
       " <tf.Variable 'Variable_34:0' shape=(400, 120) dtype=float32_ref>,\n",
       " <tf.Variable 'Variable_35:0' shape=(120,) dtype=float32_ref>,\n",
       " <tf.Variable 'Variable_36:0' shape=(120, 84) dtype=float32_ref>,\n",
       " <tf.Variable 'Variable_37:0' shape=(84,) dtype=float32_ref>,\n",
       " <tf.Variable 'Variable_38:0' shape=(84, 43) dtype=float32_ref>,\n",
       " <tf.Variable 'Variable_39:0' shape=(43,) dtype=float32_ref>,\n",
       " <tf.Variable 'Variable_40:0' shape=(5, 5, 3, 6) dtype=float32_ref>,\n",
       " <tf.Variable 'Variable_41:0' shape=(6,) dtype=float32_ref>,\n",
       " <tf.Variable 'Variable_42:0' shape=(5, 5, 6, 16) dtype=float32_ref>,\n",
       " <tf.Variable 'Variable_43:0' shape=(16,) dtype=float32_ref>,\n",
       " <tf.Variable 'Variable_44:0' shape=(400, 120) dtype=float32_ref>,\n",
       " <tf.Variable 'Variable_45:0' shape=(120,) dtype=float32_ref>,\n",
       " <tf.Variable 'Variable_46:0' shape=(120, 84) dtype=float32_ref>,\n",
       " <tf.Variable 'Variable_47:0' shape=(84,) dtype=float32_ref>,\n",
       " <tf.Variable 'Variable_48:0' shape=(84, 43) dtype=float32_ref>,\n",
       " <tf.Variable 'Variable_49:0' shape=(43,) dtype=float32_ref>,\n",
       " <tf.Variable 'Variable:0' shape=(5, 5, 3, 6) dtype=float32_ref>,\n",
       " <tf.Variable 'Variable_1:0' shape=(6,) dtype=float32_ref>,\n",
       " <tf.Variable 'Variable_2:0' shape=(5, 5, 6, 16) dtype=float32_ref>,\n",
       " <tf.Variable 'Variable_3:0' shape=(16,) dtype=float32_ref>,\n",
       " <tf.Variable 'Variable_4:0' shape=(400, 120) dtype=float32_ref>,\n",
       " <tf.Variable 'Variable_5:0' shape=(120,) dtype=float32_ref>,\n",
       " <tf.Variable 'Variable_6:0' shape=(120, 84) dtype=float32_ref>,\n",
       " <tf.Variable 'Variable_7:0' shape=(84,) dtype=float32_ref>,\n",
       " <tf.Variable 'Variable_8:0' shape=(84, 43) dtype=float32_ref>,\n",
       " <tf.Variable 'Variable_9:0' shape=(43,) dtype=float32_ref>,\n",
       " <tf.Variable 'Variable_10:0' shape=(5, 5, 3, 6) dtype=float32_ref>,\n",
       " <tf.Variable 'Variable_11:0' shape=(6,) dtype=float32_ref>,\n",
       " <tf.Variable 'Variable_12:0' shape=(5, 5, 6, 16) dtype=float32_ref>,\n",
       " <tf.Variable 'Variable_13:0' shape=(16,) dtype=float32_ref>,\n",
       " <tf.Variable 'Variable_14:0' shape=(400, 120) dtype=float32_ref>,\n",
       " <tf.Variable 'Variable_15:0' shape=(120,) dtype=float32_ref>,\n",
       " <tf.Variable 'Variable_16:0' shape=(120, 84) dtype=float32_ref>,\n",
       " <tf.Variable 'Variable_17:0' shape=(84,) dtype=float32_ref>,\n",
       " <tf.Variable 'Variable_18:0' shape=(84, 43) dtype=float32_ref>,\n",
       " <tf.Variable 'Variable_19:0' shape=(43,) dtype=float32_ref>,\n",
       " <tf.Variable 'Variable_20:0' shape=(5, 5, 3, 32) dtype=float32_ref>,\n",
       " <tf.Variable 'Variable_21:0' shape=(32,) dtype=float32_ref>,\n",
       " <tf.Variable 'Variable_22:0' shape=(5, 5, 32, 64) dtype=float32_ref>,\n",
       " <tf.Variable 'Variable_23:0' shape=(64,) dtype=float32_ref>,\n",
       " <tf.Variable 'Variable_24:0' shape=(1600, 1024) dtype=float32_ref>,\n",
       " <tf.Variable 'Variable_25:0' shape=(1024,) dtype=float32_ref>,\n",
       " <tf.Variable 'Variable_26:0' shape=(1024, 128) dtype=float32_ref>,\n",
       " <tf.Variable 'Variable_27:0' shape=(128,) dtype=float32_ref>,\n",
       " <tf.Variable 'Variable_28:0' shape=(128, 43) dtype=float32_ref>,\n",
       " <tf.Variable 'Variable_29:0' shape=(43,) dtype=float32_ref>,\n",
       " <tf.Variable 'Variable_30:0' shape=(5, 5, 3, 6) dtype=float32_ref>,\n",
       " <tf.Variable 'Variable_31:0' shape=(6,) dtype=float32_ref>,\n",
       " <tf.Variable 'Variable_32:0' shape=(5, 5, 6, 16) dtype=float32_ref>,\n",
       " <tf.Variable 'Variable_33:0' shape=(16,) dtype=float32_ref>,\n",
       " <tf.Variable 'Variable_34:0' shape=(400, 120) dtype=float32_ref>,\n",
       " <tf.Variable 'Variable_35:0' shape=(120,) dtype=float32_ref>,\n",
       " <tf.Variable 'Variable_36:0' shape=(120, 84) dtype=float32_ref>,\n",
       " <tf.Variable 'Variable_37:0' shape=(84,) dtype=float32_ref>,\n",
       " <tf.Variable 'Variable_38:0' shape=(84, 43) dtype=float32_ref>,\n",
       " <tf.Variable 'Variable_39:0' shape=(43,) dtype=float32_ref>,\n",
       " <tf.Variable 'Variable_40:0' shape=(5, 5, 3, 6) dtype=float32_ref>,\n",
       " <tf.Variable 'Variable_41:0' shape=(6,) dtype=float32_ref>,\n",
       " <tf.Variable 'Variable_42:0' shape=(5, 5, 6, 16) dtype=float32_ref>,\n",
       " <tf.Variable 'Variable_43:0' shape=(16,) dtype=float32_ref>,\n",
       " <tf.Variable 'Variable_44:0' shape=(400, 120) dtype=float32_ref>,\n",
       " <tf.Variable 'Variable_45:0' shape=(120,) dtype=float32_ref>,\n",
       " <tf.Variable 'Variable_46:0' shape=(120, 84) dtype=float32_ref>,\n",
       " <tf.Variable 'Variable_47:0' shape=(84,) dtype=float32_ref>,\n",
       " <tf.Variable 'Variable_48:0' shape=(84, 43) dtype=float32_ref>,\n",
       " <tf.Variable 'Variable_49:0' shape=(43,) dtype=float32_ref>,\n",
       " <tf.Variable 'Variable:0' shape=(5, 5, 3, 6) dtype=float32_ref>,\n",
       " <tf.Variable 'Variable_1:0' shape=(6,) dtype=float32_ref>,\n",
       " <tf.Variable 'Variable_2:0' shape=(5, 5, 6, 16) dtype=float32_ref>,\n",
       " <tf.Variable 'Variable_3:0' shape=(16,) dtype=float32_ref>,\n",
       " <tf.Variable 'Variable_4:0' shape=(400, 120) dtype=float32_ref>,\n",
       " <tf.Variable 'Variable_5:0' shape=(120,) dtype=float32_ref>,\n",
       " <tf.Variable 'Variable_6:0' shape=(120, 84) dtype=float32_ref>,\n",
       " <tf.Variable 'Variable_7:0' shape=(84,) dtype=float32_ref>,\n",
       " <tf.Variable 'Variable_8:0' shape=(84, 43) dtype=float32_ref>,\n",
       " <tf.Variable 'Variable_9:0' shape=(43,) dtype=float32_ref>,\n",
       " <tf.Variable 'Variable_10:0' shape=(5, 5, 3, 6) dtype=float32_ref>,\n",
       " <tf.Variable 'Variable_11:0' shape=(6,) dtype=float32_ref>,\n",
       " <tf.Variable 'Variable_12:0' shape=(5, 5, 6, 16) dtype=float32_ref>,\n",
       " <tf.Variable 'Variable_13:0' shape=(16,) dtype=float32_ref>,\n",
       " <tf.Variable 'Variable_14:0' shape=(400, 120) dtype=float32_ref>,\n",
       " <tf.Variable 'Variable_15:0' shape=(120,) dtype=float32_ref>,\n",
       " <tf.Variable 'Variable_16:0' shape=(120, 84) dtype=float32_ref>,\n",
       " <tf.Variable 'Variable_17:0' shape=(84,) dtype=float32_ref>,\n",
       " <tf.Variable 'Variable_18:0' shape=(84, 43) dtype=float32_ref>,\n",
       " <tf.Variable 'Variable_19:0' shape=(43,) dtype=float32_ref>,\n",
       " <tf.Variable 'Variable_20:0' shape=(5, 5, 3, 32) dtype=float32_ref>,\n",
       " <tf.Variable 'Variable_21:0' shape=(32,) dtype=float32_ref>,\n",
       " <tf.Variable 'Variable_22:0' shape=(5, 5, 32, 64) dtype=float32_ref>,\n",
       " <tf.Variable 'Variable_23:0' shape=(64,) dtype=float32_ref>,\n",
       " <tf.Variable 'Variable_24:0' shape=(1600, 1024) dtype=float32_ref>,\n",
       " <tf.Variable 'Variable_25:0' shape=(1024,) dtype=float32_ref>,\n",
       " <tf.Variable 'Variable_26:0' shape=(1024, 128) dtype=float32_ref>,\n",
       " <tf.Variable 'Variable_27:0' shape=(128,) dtype=float32_ref>,\n",
       " <tf.Variable 'Variable_28:0' shape=(128, 43) dtype=float32_ref>,\n",
       " <tf.Variable 'Variable_29:0' shape=(43,) dtype=float32_ref>,\n",
       " <tf.Variable 'Variable_30:0' shape=(5, 5, 3, 6) dtype=float32_ref>,\n",
       " <tf.Variable 'Variable_31:0' shape=(6,) dtype=float32_ref>,\n",
       " <tf.Variable 'Variable_32:0' shape=(5, 5, 6, 16) dtype=float32_ref>,\n",
       " <tf.Variable 'Variable_33:0' shape=(16,) dtype=float32_ref>,\n",
       " <tf.Variable 'Variable_34:0' shape=(400, 120) dtype=float32_ref>,\n",
       " <tf.Variable 'Variable_35:0' shape=(120,) dtype=float32_ref>,\n",
       " <tf.Variable 'Variable_36:0' shape=(120, 84) dtype=float32_ref>,\n",
       " <tf.Variable 'Variable_37:0' shape=(84,) dtype=float32_ref>,\n",
       " <tf.Variable 'Variable_38:0' shape=(84, 43) dtype=float32_ref>,\n",
       " <tf.Variable 'Variable_39:0' shape=(43,) dtype=float32_ref>,\n",
       " <tf.Variable 'Variable_40:0' shape=(5, 5, 3, 6) dtype=float32_ref>,\n",
       " <tf.Variable 'Variable_41:0' shape=(6,) dtype=float32_ref>,\n",
       " <tf.Variable 'Variable_42:0' shape=(5, 5, 6, 16) dtype=float32_ref>,\n",
       " <tf.Variable 'Variable_43:0' shape=(16,) dtype=float32_ref>,\n",
       " <tf.Variable 'Variable_44:0' shape=(400, 120) dtype=float32_ref>,\n",
       " <tf.Variable 'Variable_45:0' shape=(120,) dtype=float32_ref>,\n",
       " <tf.Variable 'Variable_46:0' shape=(120, 84) dtype=float32_ref>,\n",
       " <tf.Variable 'Variable_47:0' shape=(84,) dtype=float32_ref>,\n",
       " <tf.Variable 'Variable_48:0' shape=(84, 43) dtype=float32_ref>,\n",
       " <tf.Variable 'Variable_49:0' shape=(43,) dtype=float32_ref>,\n",
       " <tf.Variable 'Variable:0' shape=(5, 5, 3, 6) dtype=float32_ref>,\n",
       " <tf.Variable 'Variable_1:0' shape=(6,) dtype=float32_ref>,\n",
       " <tf.Variable 'Variable_2:0' shape=(5, 5, 6, 16) dtype=float32_ref>,\n",
       " <tf.Variable 'Variable_3:0' shape=(16,) dtype=float32_ref>,\n",
       " <tf.Variable 'Variable_4:0' shape=(400, 120) dtype=float32_ref>,\n",
       " <tf.Variable 'Variable_5:0' shape=(120,) dtype=float32_ref>,\n",
       " <tf.Variable 'Variable_6:0' shape=(120, 84) dtype=float32_ref>,\n",
       " <tf.Variable 'Variable_7:0' shape=(84,) dtype=float32_ref>,\n",
       " <tf.Variable 'Variable_8:0' shape=(84, 43) dtype=float32_ref>,\n",
       " <tf.Variable 'Variable_9:0' shape=(43,) dtype=float32_ref>,\n",
       " <tf.Variable 'Variable_10:0' shape=(5, 5, 3, 6) dtype=float32_ref>,\n",
       " <tf.Variable 'Variable_11:0' shape=(6,) dtype=float32_ref>,\n",
       " <tf.Variable 'Variable_12:0' shape=(5, 5, 6, 16) dtype=float32_ref>,\n",
       " <tf.Variable 'Variable_13:0' shape=(16,) dtype=float32_ref>,\n",
       " <tf.Variable 'Variable_14:0' shape=(400, 120) dtype=float32_ref>,\n",
       " <tf.Variable 'Variable_15:0' shape=(120,) dtype=float32_ref>,\n",
       " <tf.Variable 'Variable_16:0' shape=(120, 84) dtype=float32_ref>,\n",
       " <tf.Variable 'Variable_17:0' shape=(84,) dtype=float32_ref>,\n",
       " <tf.Variable 'Variable_18:0' shape=(84, 43) dtype=float32_ref>,\n",
       " <tf.Variable 'Variable_19:0' shape=(43,) dtype=float32_ref>,\n",
       " <tf.Variable 'Variable_20:0' shape=(5, 5, 3, 32) dtype=float32_ref>,\n",
       " <tf.Variable 'Variable_21:0' shape=(32,) dtype=float32_ref>,\n",
       " <tf.Variable 'Variable_22:0' shape=(5, 5, 32, 64) dtype=float32_ref>,\n",
       " <tf.Variable 'Variable_23:0' shape=(64,) dtype=float32_ref>,\n",
       " <tf.Variable 'Variable_24:0' shape=(1600, 1024) dtype=float32_ref>,\n",
       " <tf.Variable 'Variable_25:0' shape=(1024,) dtype=float32_ref>,\n",
       " <tf.Variable 'Variable_26:0' shape=(1024, 128) dtype=float32_ref>,\n",
       " <tf.Variable 'Variable_27:0' shape=(128,) dtype=float32_ref>,\n",
       " <tf.Variable 'Variable_28:0' shape=(128, 43) dtype=float32_ref>,\n",
       " <tf.Variable 'Variable_29:0' shape=(43,) dtype=float32_ref>,\n",
       " <tf.Variable 'Variable_30:0' shape=(5, 5, 3, 6) dtype=float32_ref>,\n",
       " <tf.Variable 'Variable_31:0' shape=(6,) dtype=float32_ref>,\n",
       " <tf.Variable 'Variable_32:0' shape=(5, 5, 6, 16) dtype=float32_ref>,\n",
       " <tf.Variable 'Variable_33:0' shape=(16,) dtype=float32_ref>,\n",
       " <tf.Variable 'Variable_34:0' shape=(400, 120) dtype=float32_ref>,\n",
       " <tf.Variable 'Variable_35:0' shape=(120,) dtype=float32_ref>,\n",
       " <tf.Variable 'Variable_36:0' shape=(120, 84) dtype=float32_ref>,\n",
       " <tf.Variable 'Variable_37:0' shape=(84,) dtype=float32_ref>,\n",
       " <tf.Variable 'Variable_38:0' shape=(84, 43) dtype=float32_ref>,\n",
       " <tf.Variable 'Variable_39:0' shape=(43,) dtype=float32_ref>,\n",
       " <tf.Variable 'Variable_40:0' shape=(5, 5, 3, 6) dtype=float32_ref>,\n",
       " <tf.Variable 'Variable_41:0' shape=(6,) dtype=float32_ref>,\n",
       " <tf.Variable 'Variable_42:0' shape=(5, 5, 6, 16) dtype=float32_ref>,\n",
       " <tf.Variable 'Variable_43:0' shape=(16,) dtype=float32_ref>,\n",
       " <tf.Variable 'Variable_44:0' shape=(400, 120) dtype=float32_ref>,\n",
       " <tf.Variable 'Variable_45:0' shape=(120,) dtype=float32_ref>,\n",
       " <tf.Variable 'Variable_46:0' shape=(120, 84) dtype=float32_ref>,\n",
       " <tf.Variable 'Variable_47:0' shape=(84,) dtype=float32_ref>,\n",
       " <tf.Variable 'Variable_48:0' shape=(84, 43) dtype=float32_ref>,\n",
       " <tf.Variable 'Variable_49:0' shape=(43,) dtype=float32_ref>,\n",
       " <tf.Variable 'Variable:0' shape=(5, 5, 3, 6) dtype=float32_ref>,\n",
       " <tf.Variable 'Variable_1:0' shape=(6,) dtype=float32_ref>,\n",
       " <tf.Variable 'Variable_2:0' shape=(5, 5, 6, 16) dtype=float32_ref>,\n",
       " <tf.Variable 'Variable_3:0' shape=(16,) dtype=float32_ref>,\n",
       " <tf.Variable 'Variable_4:0' shape=(400, 120) dtype=float32_ref>,\n",
       " <tf.Variable 'Variable_5:0' shape=(120,) dtype=float32_ref>,\n",
       " <tf.Variable 'Variable_6:0' shape=(120, 84) dtype=float32_ref>,\n",
       " <tf.Variable 'Variable_7:0' shape=(84,) dtype=float32_ref>,\n",
       " <tf.Variable 'Variable_8:0' shape=(84, 43) dtype=float32_ref>,\n",
       " <tf.Variable 'Variable_9:0' shape=(43,) dtype=float32_ref>,\n",
       " <tf.Variable 'Variable_10:0' shape=(5, 5, 3, 6) dtype=float32_ref>,\n",
       " <tf.Variable 'Variable_11:0' shape=(6,) dtype=float32_ref>,\n",
       " <tf.Variable 'Variable_12:0' shape=(5, 5, 6, 16) dtype=float32_ref>,\n",
       " <tf.Variable 'Variable_13:0' shape=(16,) dtype=float32_ref>,\n",
       " <tf.Variable 'Variable_14:0' shape=(400, 120) dtype=float32_ref>,\n",
       " <tf.Variable 'Variable_15:0' shape=(120,) dtype=float32_ref>,\n",
       " <tf.Variable 'Variable_16:0' shape=(120, 84) dtype=float32_ref>,\n",
       " <tf.Variable 'Variable_17:0' shape=(84,) dtype=float32_ref>,\n",
       " <tf.Variable 'Variable_18:0' shape=(84, 43) dtype=float32_ref>,\n",
       " <tf.Variable 'Variable_19:0' shape=(43,) dtype=float32_ref>,\n",
       " <tf.Variable 'Variable_20:0' shape=(5, 5, 3, 32) dtype=float32_ref>,\n",
       " <tf.Variable 'Variable_21:0' shape=(32,) dtype=float32_ref>,\n",
       " <tf.Variable 'Variable_22:0' shape=(5, 5, 32, 64) dtype=float32_ref>,\n",
       " <tf.Variable 'Variable_23:0' shape=(64,) dtype=float32_ref>,\n",
       " <tf.Variable 'Variable_24:0' shape=(1600, 1024) dtype=float32_ref>,\n",
       " <tf.Variable 'Variable_25:0' shape=(1024,) dtype=float32_ref>,\n",
       " <tf.Variable 'Variable_26:0' shape=(1024, 128) dtype=float32_ref>,\n",
       " <tf.Variable 'Variable_27:0' shape=(128,) dtype=float32_ref>,\n",
       " <tf.Variable 'Variable_28:0' shape=(128, 43) dtype=float32_ref>,\n",
       " <tf.Variable 'Variable_29:0' shape=(43,) dtype=float32_ref>,\n",
       " <tf.Variable 'Variable_30:0' shape=(5, 5, 3, 6) dtype=float32_ref>,\n",
       " <tf.Variable 'Variable_31:0' shape=(6,) dtype=float32_ref>,\n",
       " <tf.Variable 'Variable_32:0' shape=(5, 5, 6, 16) dtype=float32_ref>,\n",
       " <tf.Variable 'Variable_33:0' shape=(16,) dtype=float32_ref>,\n",
       " <tf.Variable 'Variable_34:0' shape=(400, 120) dtype=float32_ref>,\n",
       " <tf.Variable 'Variable_35:0' shape=(120,) dtype=float32_ref>,\n",
       " <tf.Variable 'Variable_36:0' shape=(120, 84) dtype=float32_ref>,\n",
       " <tf.Variable 'Variable_37:0' shape=(84,) dtype=float32_ref>,\n",
       " <tf.Variable 'Variable_38:0' shape=(84, 43) dtype=float32_ref>,\n",
       " <tf.Variable 'Variable_39:0' shape=(43,) dtype=float32_ref>,\n",
       " <tf.Variable 'Variable_40:0' shape=(5, 5, 3, 6) dtype=float32_ref>,\n",
       " <tf.Variable 'Variable_41:0' shape=(6,) dtype=float32_ref>,\n",
       " <tf.Variable 'Variable_42:0' shape=(5, 5, 6, 16) dtype=float32_ref>,\n",
       " <tf.Variable 'Variable_43:0' shape=(16,) dtype=float32_ref>,\n",
       " <tf.Variable 'Variable_44:0' shape=(400, 120) dtype=float32_ref>,\n",
       " <tf.Variable 'Variable_45:0' shape=(120,) dtype=float32_ref>,\n",
       " <tf.Variable 'Variable_46:0' shape=(120, 84) dtype=float32_ref>,\n",
       " <tf.Variable 'Variable_47:0' shape=(84,) dtype=float32_ref>,\n",
       " <tf.Variable 'Variable_48:0' shape=(84, 43) dtype=float32_ref>,\n",
       " <tf.Variable 'Variable_49:0' shape=(43,) dtype=float32_ref>]"
      ]
     },
     "execution_count": 12,
     "metadata": {},
     "output_type": "execute_result"
    }
   ],
   "source": [
    "tf.get_collection(tf.GraphKeys.TRAINABLE_VARIABLES)\n"
   ]
  },
  {
   "cell_type": "markdown",
   "metadata": {},
   "source": [
    "---\n",
    "\n",
    "## Step 3: Test a Model on New Images\n",
    "\n",
    "To give yourself more insight into how your model is working, download at least five pictures of German traffic signs from the web and use your model to predict the traffic sign type.\n",
    "\n",
    "You may find `signnames.csv` useful as it contains mappings from the class id (integer) to the actual sign name."
   ]
  },
  {
   "cell_type": "markdown",
   "metadata": {},
   "source": [
    "### Load and Output the Images"
   ]
  },
  {
   "cell_type": "code",
   "execution_count": null,
   "metadata": {
    "collapsed": true
   },
   "outputs": [],
   "source": [
    "### Load the images and plot them here.\n",
    "### Feel free to use as many code cells as needed."
   ]
  },
  {
   "cell_type": "markdown",
   "metadata": {},
   "source": [
    "### Predict the Sign Type for Each Image"
   ]
  },
  {
   "cell_type": "code",
   "execution_count": 3,
   "metadata": {
    "collapsed": true
   },
   "outputs": [],
   "source": [
    "### Run the predictions here and use the model to output the prediction for each image.\n",
    "### Make sure to pre-process the images with the same pre-processing pipeline used earlier.\n",
    "### Feel free to use as many code cells as needed."
   ]
  },
  {
   "cell_type": "markdown",
   "metadata": {},
   "source": [
    "### Analyze Performance"
   ]
  },
  {
   "cell_type": "code",
   "execution_count": 4,
   "metadata": {
    "collapsed": true
   },
   "outputs": [],
   "source": [
    "### Calculate the accuracy for these 5 new images. \n",
    "### For example, if the model predicted 1 out of 5 signs correctly, it's 20% accurate on these new images."
   ]
  },
  {
   "cell_type": "markdown",
   "metadata": {},
   "source": [
    "### Output Top 5 Softmax Probabilities For Each Image Found on the Web"
   ]
  },
  {
   "cell_type": "markdown",
   "metadata": {},
   "source": [
    "For each of the new images, print out the model's softmax probabilities to show the **certainty** of the model's predictions (limit the output to the top 5 probabilities for each image). [`tf.nn.top_k`](https://www.tensorflow.org/versions/r0.12/api_docs/python/nn.html#top_k) could prove helpful here. \n",
    "\n",
    "The example below demonstrates how tf.nn.top_k can be used to find the top k predictions for each image.\n",
    "\n",
    "`tf.nn.top_k` will return the values and indices (class ids) of the top k predictions. So if k=3, for each sign, it'll return the 3 largest probabilities (out of a possible 43) and the correspoding class ids.\n",
    "\n",
    "Take this numpy array as an example. The values in the array represent predictions. The array contains softmax probabilities for five candidate images with six possible classes. `tk.nn.top_k` is used to choose the three classes with the highest probability:\n",
    "\n",
    "```\n",
    "# (5, 6) array\n",
    "a = np.array([[ 0.24879643,  0.07032244,  0.12641572,  0.34763842,  0.07893497,\n",
    "         0.12789202],\n",
    "       [ 0.28086119,  0.27569815,  0.08594638,  0.0178669 ,  0.18063401,\n",
    "         0.15899337],\n",
    "       [ 0.26076848,  0.23664738,  0.08020603,  0.07001922,  0.1134371 ,\n",
    "         0.23892179],\n",
    "       [ 0.11943333,  0.29198961,  0.02605103,  0.26234032,  0.1351348 ,\n",
    "         0.16505091],\n",
    "       [ 0.09561176,  0.34396535,  0.0643941 ,  0.16240774,  0.24206137,\n",
    "         0.09155967]])\n",
    "```\n",
    "\n",
    "Running it through `sess.run(tf.nn.top_k(tf.constant(a), k=3))` produces:\n",
    "\n",
    "```\n",
    "TopKV2(values=array([[ 0.34763842,  0.24879643,  0.12789202],\n",
    "       [ 0.28086119,  0.27569815,  0.18063401],\n",
    "       [ 0.26076848,  0.23892179,  0.23664738],\n",
    "       [ 0.29198961,  0.26234032,  0.16505091],\n",
    "       [ 0.34396535,  0.24206137,  0.16240774]]), indices=array([[3, 0, 5],\n",
    "       [0, 1, 4],\n",
    "       [0, 5, 1],\n",
    "       [1, 3, 5],\n",
    "       [1, 4, 3]], dtype=int32))\n",
    "```\n",
    "\n",
    "Looking just at the first row we get `[ 0.34763842,  0.24879643,  0.12789202]`, you can confirm these are the 3 largest probabilities in `a`. You'll also notice `[3, 0, 5]` are the corresponding indices."
   ]
  },
  {
   "cell_type": "code",
   "execution_count": 3,
   "metadata": {
    "collapsed": true
   },
   "outputs": [],
   "source": [
    "### Print out the top five softmax probabilities for the predictions on the German traffic sign images found on the web. \n",
    "### Feel free to use as many code cells as needed."
   ]
  },
  {
   "cell_type": "markdown",
   "metadata": {},
   "source": [
    "### Project Writeup\n",
    "\n",
    "Once you have completed the code implementation, document your results in a project writeup using this [template](https://github.com/udacity/CarND-Traffic-Sign-Classifier-Project/blob/master/writeup_template.md) as a guide. The writeup can be in a markdown or pdf file. "
   ]
  },
  {
   "cell_type": "markdown",
   "metadata": {},
   "source": [
    "> **Note**: Once you have completed all of the code implementations and successfully answered each question above, you may finalize your work by exporting the iPython Notebook as an HTML document. You can do this by using the menu above and navigating to  \\n\",\n",
    "    \"**File -> Download as -> HTML (.html)**. Include the finished document along with this notebook as your submission."
   ]
  },
  {
   "cell_type": "markdown",
   "metadata": {},
   "source": [
    "---\n",
    "\n",
    "## Step 4 (Optional): Visualize the Neural Network's State with Test Images\n",
    "\n",
    " This Section is not required to complete but acts as an additional excersise for understaning the output of a neural network's weights. While neural networks can be a great learning device they are often referred to as a black box. We can understand what the weights of a neural network look like better by plotting their feature maps. After successfully training your neural network you can see what it's feature maps look like by plotting the output of the network's weight layers in response to a test stimuli image. From these plotted feature maps, it's possible to see what characteristics of an image the network finds interesting. For a sign, maybe the inner network feature maps react with high activation to the sign's boundary outline or to the contrast in the sign's painted symbol.\n",
    "\n",
    " Provided for you below is the function code that allows you to get the visualization output of any tensorflow weight layer you want. The inputs to the function should be a stimuli image, one used during training or a new one you provided, and then the tensorflow variable name that represents the layer's state during the training process, for instance if you wanted to see what the [LeNet lab's](https://classroom.udacity.com/nanodegrees/nd013/parts/fbf77062-5703-404e-b60c-95b78b2f3f9e/modules/6df7ae49-c61c-4bb2-a23e-6527e69209ec/lessons/601ae704-1035-4287-8b11-e2c2716217ad/concepts/d4aca031-508f-4e0b-b493-e7b706120f81) feature maps looked like for it's second convolutional layer you could enter conv2 as the tf_activation variable.\n",
    "\n",
    "For an example of what feature map outputs look like, check out NVIDIA's results in their paper [End-to-End Deep Learning for Self-Driving Cars](https://devblogs.nvidia.com/parallelforall/deep-learning-self-driving-cars/) in the section Visualization of internal CNN State. NVIDIA was able to show that their network's inner weights had high activations to road boundary lines by comparing feature maps from an image with a clear path to one without. Try experimenting with a similar test to show that your trained network's weights are looking for interesting features, whether it's looking at differences in feature maps from images with or without a sign, or even what feature maps look like in a trained network vs a completely untrained one on the same sign image.\n",
    "\n",
    "<figure>\n",
    " <img src=\"visualize_cnn.png\" width=\"380\" alt=\"Combined Image\" />\n",
    " <figcaption>\n",
    " <p></p> \n",
    " <p style=\"text-align: center;\"> Your output should look something like this (above)</p> \n",
    " </figcaption>\n",
    "</figure>\n",
    " <p></p> \n"
   ]
  },
  {
   "cell_type": "code",
   "execution_count": null,
   "metadata": {
    "collapsed": true
   },
   "outputs": [],
   "source": [
    "### Visualize your network's feature maps here.\n",
    "### Feel free to use as many code cells as needed.\n",
    "\n",
    "# image_input: the test image being fed into the network to produce the feature maps\n",
    "# tf_activation: should be a tf variable name used during your training procedure that represents the calculated state of a specific weight layer\n",
    "# activation_min/max: can be used to view the activation contrast in more detail, by default matplot sets min and max to the actual min and max values of the output\n",
    "# plt_num: used to plot out multiple different weight feature map sets on the same block, just extend the plt number for each new feature map entry\n",
    "\n",
    "def outputFeatureMap(image_input, tf_activation, activation_min=-1, activation_max=-1 ,plt_num=1):\n",
    "    # Here make sure to preprocess your image_input in a way your network expects\n",
    "    # with size, normalization, ect if needed\n",
    "    # image_input =\n",
    "    # Note: x should be the same name as your network's tensorflow data placeholder variable\n",
    "    # If you get an error tf_activation is not defined it may be having trouble accessing the variable from inside a function\n",
    "    activation = tf_activation.eval(session=sess,feed_dict={x : image_input})\n",
    "    featuremaps = activation.shape[3]\n",
    "    plt.figure(plt_num, figsize=(15,15))\n",
    "    for featuremap in range(featuremaps):\n",
    "        plt.subplot(6,8, featuremap+1) # sets the number of feature maps to show on each row and column\n",
    "        plt.title('FeatureMap ' + str(featuremap)) # displays the feature map number\n",
    "        if activation_min != -1 & activation_max != -1:\n",
    "            plt.imshow(activation[0,:,:, featuremap], interpolation=\"nearest\", vmin =activation_min, vmax=activation_max, cmap=\"gray\")\n",
    "        elif activation_max != -1:\n",
    "            plt.imshow(activation[0,:,:, featuremap], interpolation=\"nearest\", vmax=activation_max, cmap=\"gray\")\n",
    "        elif activation_min !=-1:\n",
    "            plt.imshow(activation[0,:,:, featuremap], interpolation=\"nearest\", vmin=activation_min, cmap=\"gray\")\n",
    "        else:\n",
    "            plt.imshow(activation[0,:,:, featuremap], interpolation=\"nearest\", cmap=\"gray\")"
   ]
  }
 ],
 "metadata": {
  "anaconda-cloud": {},
  "kernelspec": {
   "display_name": "Python 3",
   "language": "python",
   "name": "python3"
  },
  "language_info": {
   "codemirror_mode": {
    "name": "ipython",
    "version": 3
   },
   "file_extension": ".py",
   "mimetype": "text/x-python",
   "name": "python",
   "nbconvert_exporter": "python",
   "pygments_lexer": "ipython3",
   "version": "3.6.1"
  },
  "widgets": {
   "state": {},
   "version": "1.1.2"
  }
 },
 "nbformat": 4,
 "nbformat_minor": 1
}
